{
 "cells": [
  {
   "cell_type": "code",
   "execution_count": 4,
   "metadata": {},
   "outputs": [
    {
     "name": "stdout",
     "output_type": "stream",
     "text": [
      "100 200 300\n",
      "입력받은 값은:100 200 300\n",
      "최종결과는 600\n"
     ]
    }
   ],
   "source": [
    "## function (함수)\n",
    "\n",
    "## 숫자를 입력받아서                   -> 단위기능으로 간주 -> 함수 \n",
    "## 해당 숫자를 모두 더한 후            -> 단위기능으로 간주 -> 함수\n",
    "## \"결과값은: xx입니다.\" 형식으로 출력 -> 함수\n",
    "\n",
    "## -> 함수 기반의 프로그래밍 방식: 절차적 프로그래밍 (Procedual programming)\n",
    "\n",
    "## python에서 함수는 크게 2가지로 구분\n",
    "## 내장함수 (sum, 사용자 정의함수(user define 함수))\n",
    "# 사용자 정의함수를 만드는 keyword는 def\n",
    "# 함수이름은 소문자로 시작(관용적, 프로그램적으로는 문제 X)\n",
    "# 함수의 정의 (definition) -> 함수 이름, 인자 형태, 인자 개수 + 기능구현\n",
    "# 함수의 선언(declaration) -> 함수 이름, 인자 형태, 인자 개수\n",
    "def mySum(a,b,c):\n",
    "    total = a+b+c   # 함수의 기능을 구현\n",
    "    return total\n",
    "\n",
    "# 숫자 1개 받기 - input()\n",
    "inputValue = input()  # 입력받는 내장함수: 무조건 str로 받음 \n",
    "# 숫자 3개를 받아보자\n",
    "# 100 200 300이라고 입력\n",
    "print(\"입력받은 값은:{}\".format(inputValue))\n",
    "# 지금 inputValue는 \"100 200 300\"\n",
    "var1 = inputValue.split(\" \")    # 공백을 기준으로 문자열을 분리하겠다. -> 결과는 list\n",
    "result = mySum(int(var1[0]),int(var1[1]),int(var1[2]))\n",
    "print(\"최종결과는 {}\".format(result))\n",
    "   \n"
   ]
  },
  {
   "cell_type": "code",
   "execution_count": 10,
   "metadata": {},
   "outputs": [
    {
     "name": "stdout",
     "output_type": "stream",
     "text": [
      "최종결과:100\n"
     ]
    }
   ],
   "source": [
    "## 함수 2번째\n",
    "# 전달받은 모든 값들을 더해서 리턴하는 함수\n",
    "def mySum2(*a):   # *: 입력 개수 모를때   # a : 튜플로 간주됨.\n",
    "    k=0\n",
    "    for i in range(len(a)):  # 받은것 개수만큼 for문 돌겠다\n",
    "        k += a[i] \n",
    "    return k\n",
    "total = mySum2(10,20,30,40)   # a => (10,20,30,40)\n",
    "print(\"최종결과:{}\".format(total))   # 최종결과:100\n",
    "\n"
   ]
  },
  {
   "cell_type": "code",
   "execution_count": 11,
   "metadata": {},
   "outputs": [
    {
     "name": "stdout",
     "output_type": "stream",
     "text": [
      "300\n"
     ]
    }
   ],
   "source": [
    "## 함수를 하나 정의하자\n",
    "\n",
    "# 숫자 2개 받아서 두 개의 합과 두 개의 곱을 리턴\n",
    "# tuple을 이용해서 마치 여러개의 값이 리턴되는것 처럼 사용할 수 있음!\n",
    "\n",
    "# tuple에서 \n",
    "# a = (10,20,30) 인데 소괄호 생략 가능. \n",
    "# a = 10,20,30 가능\n",
    "# list, set 등은 괄호 생략 불가! \n",
    "def multi_process(x,y):\n",
    "    result1 = x+y\n",
    "    result2 = x*y\n",
    "    return result1,result2   # result1,result2 : 결과값 튜플로 나옴 # (result1,result2) 과 같음     \n",
    "\n",
    "a,b = multi_process(100,200)   \n",
    "# a,b = (300,20000) 와 동치\n",
    "print(a)  # 300\n",
    "\n"
   ]
  },
  {
   "cell_type": "code",
   "execution_count": 14,
   "metadata": {},
   "outputs": [
    {
     "data": {
      "text/plain": [
       "7"
      ]
     },
     "execution_count": 14,
     "metadata": {},
     "output_type": "execute_result"
    }
   ],
   "source": [
    "# 사용자 정의함수를 만들어보자.\n",
    "# default parameter (parameter: input값)\n",
    "# 마지막 parameter에 default값 지정 가능. -> 무조건 마지막만 가능!!!!!!\n",
    "def mySum(a,b,c=100):   # c는 값이 안들어올수도 있다. 안들어오면 100으로 쓰겠다. \n",
    "    return a+b+c\n",
    "mySum(1,2)    # 103\n",
    "mySum(1,2,4)  # 7\n"
   ]
  },
  {
   "cell_type": "code",
   "execution_count": 15,
   "metadata": {},
   "outputs": [
    {
     "name": "stdout",
     "output_type": "stream",
     "text": [
      "30\n"
     ]
    }
   ],
   "source": [
    "# 변수의 scope \n",
    "# 전역변수와 지역변수의 차이\n",
    "\n",
    "tmp = 100    # global variable (전역변수)\n",
    "\n",
    "def myFunc(x):     # 함수 안에서 선언된 변수는 local variable (지역변수)\n",
    "                    # local variable은 함수가 호출될 때 생성되고 함수 수행이 끝나면 없어짐 \n",
    "    tmp = 10\n",
    "    tmp += x\n",
    "    return tmp\n",
    "\n",
    "print(myFunc(20))   # 30\n",
    "print(tmp)     #100  -> 30이 아님. \n",
    "\n",
    "# 함수 안에서 global variable 사용 -> 좋지 않음.\n",
    "# tmp를 저 위의 tmp를 말하고 싶다면 global tmp = 10 이렇게 하면 global tmp가 10이 됨.\n",
    "# 선언과 대입은 동시에 못함\n",
    "def myFunc(x):     # 함수 안에서 선언된 변수는 local variable (지역변수)\n",
    "                   # local variable은 함수가 호출될 때 생성되고 함수 수행이 끝나면 없어짐 \n",
    "    global tmp    # tmp를 global에서 찾아서 사용할 것!  \n",
    "    tmp = 10\n",
    "    tmp += x\n",
    "    return tmp\n"
   ]
  },
  {
   "cell_type": "code",
   "execution_count": 34,
   "metadata": {
    "scrolled": true
   },
   "outputs": [
    {
     "name": "stdout",
     "output_type": "stream",
     "text": [
      "False\n",
      "True\n",
      "5\n",
      "5\n",
      "이것은 소리없는 아우성\n"
     ]
    }
   ],
   "source": [
    "## 내장함수 - python이 제공해주는 함수 \n",
    "# int() : 인자로 들어온 값을 정수로 변환 \n",
    "# abs() : 절대값\n",
    "# all() : 인자로 반복가능한 타입이 와야 함 (list, tuple, dict, set, str) (int는 값 1개이므로 반복 X)\n",
    "#         인자로 들어온 값이 모두 True일 경우 True를 리턴\n",
    "a = [True,100,{},3.14]   # {}: 기본적으로 dict(set이 될 수도 있지만)\n",
    "print(all(a))    # False -> {}이 False이므로\n",
    "# any() : 인자로 반복 가능한 타입이 와야 함\n",
    "#         인자로 들어온 값 중 True 있으면 True 리턴\n",
    "print(any(a))     # True\n",
    "# len() : 길이를 구하는 내장함수 \n",
    "# list() : 리스트로 변환하는 함수\n",
    "# tuple() : 튜플로 변환하는 함수\n",
    "# str() : 문자열로 변환하는 함수 \n",
    "# type() : 인자로 들어온 데이터의 타입\n",
    "# max(), min() : 최대, 최소\n",
    "# mean은 없음-> sum()/len() 으로 구하기\n",
    "a = [1,2,3,4,5]\n",
    "print(max(a))   # 5\n",
    "print(max(1,2,3,4,5))  # 5\n",
    "# sorted() : 오름차순으로 정렬\n",
    "# join() : 하나의 문자열을 다른 것과 결함\n",
    "a = [\"이것은\",\"소리없는\",\"아우성\"]\n",
    "print(\" \".join(a))   # 이것은 소리없는 아우성 -> 붙이는 거 사이에 공백 넣어라\n",
    "\n",
    "\n",
    "\n"
   ]
  },
  {
   "cell_type": "code",
   "execution_count": null,
   "metadata": {},
   "outputs": [],
   "source": [
    "\n",
    "\n",
    "\n",
    "\n",
    "\n",
    "\n",
    "\n",
    "\n",
    "\n",
    "\n"
   ]
  },
  {
   "cell_type": "code",
   "execution_count": null,
   "metadata": {},
   "outputs": [],
   "source": []
  }
 ],
 "metadata": {
  "kernelspec": {
   "display_name": "[CPU_ENV]",
   "language": "python",
   "name": "cpu_env"
  },
  "language_info": {
   "codemirror_mode": {
    "name": "ipython",
    "version": 3
   },
   "file_extension": ".py",
   "mimetype": "text/x-python",
   "name": "python",
   "nbconvert_exporter": "python",
   "pygments_lexer": "ipython3",
   "version": "3.6.9"
  }
 },
 "nbformat": 4,
 "nbformat_minor": 2
}
