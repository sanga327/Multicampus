{
 "cells": [
  {
   "cell_type": "code",
   "execution_count": 2,
   "metadata": {},
   "outputs": [],
   "source": [
    "# python은 module이라는 걸 사용함! \n",
    "# module: 하나의 python 파일 -> 변수, 함수, class\n",
    "# python의 module은 다른 python 프로그램에서 불러와 사용할 수 있는 python file을 지칭 \n",
    "\n",
    "# 우리가 생성한 module을 어디에 저장해 두어야 할까?\n",
    "## 1. 시스템 path에 추가 -> 내일 오면 다시 해야함  \n",
    "import sys   # sys라는 module을 불러와서 사용할 것이다! \n",
    "sys.path.append(\"C:/python_Lib\")    # 이 폴더 시스템파일로 지정 -> 모듈을 넣어줄 곳\n",
    "\n",
    "# 작성한 module1.py 파일을 python_Lib(파일을 로딩할 수 있는 폴더)에 넣음 \n",
    "\n",
    "\n",
    "\n",
    "## 2. 환경변수 PYTHONPATH라는걸 만들어서 여기에 module을 넣어 두면 프로그램 어디에서나 사용 가능. \n",
    "# 시스템 환경변수 만들어서 폴더 지정해놓고 여기에 module 갖다놓으면 저 위에코드 실행 안해도 밑에코드 실행 가능! \n",
    "# 매번 안해도 됨!!! \n",
    "\n",
    "# 위에 환경변수 추가\n",
    "# PYTHONPATH\n",
    "# C:\\python_Lib (모듈이 들어있는 폴더를 추가)\n",
    "\n"
   ]
  },
  {
   "cell_type": "code",
   "execution_count": 11,
   "metadata": {},
   "outputs": [
    {
     "name": "stdout",
     "output_type": "stream",
     "text": [
      "3.141592\n",
      "30\n",
      "3.141592\n",
      "30\n",
      "3.141592\n",
      "3.141592\n",
      "30\n",
      "3.141592\n",
      "3.141592\n",
      "3.141592\n",
      "3.141592\n",
      "30\n"
     ]
    }
   ],
   "source": [
    "# 다른 파일에 만들어둔 module을 여기서 불러들여 사용할것! \n",
    "\n",
    "# 1. 모듈(파일)자체를 import한 것\n",
    "# module을 사용하는 형식은 \n",
    "# import 모듈명(파일명)\n",
    "\n",
    "import module1     # 확장자는 적지 않음! \n",
    "\n",
    "print(module1.module_PI)    # 해당 모듈이 가지고 있는 변수 가져다 print\n",
    "print(module1.mySum(10,20))  \n",
    "\n",
    "\n",
    "# alias를 이용해서 편하게 사용해보자! \n",
    "import module1 as m   # 모듈1의 이름 지정\n",
    "print(m.module_PI)\n",
    "print(m.mySum(10,20))\n",
    "\n",
    "# 2. 모듈(파일)로부터 변수나 함수를 import\n",
    "# from 모듈이름 import 모듈 함수(변수, 클래스)\n",
    "from module1 import module_PI     \n",
    "print(module_PI)\n",
    "\n",
    "from module1 import *    # 이 파일에 있는거 다 들고와\n",
    "print(module_PI)\n",
    "print(mySum(10,20))\n",
    "\n",
    "\n",
    "## package : \".\" 기호를 이용해서 module을 계층적으로 관리 \n",
    "# package는 우리 눈으로 확인할 때는(물리적으로 표현할 경우) -> 폴더로 표현됨 \n",
    "# A.B 라고 할 때 A:package, B:module   A라는 폴더(패키지) 안에 있는 B라는 모듈(폴더)\n",
    "\n",
    "import myPackage.module1 \n",
    "print(myPackage.module1.module_PI) # 패키지명까지 다 써줘야 함(import 뒤에있는거 그대로)\n",
    "\n",
    "from myPackage import module1\n",
    "print(module1.module_PI)\n",
    "\n",
    "from myPackage.module1 import mySum\n",
    "print(mySum(10,20))\n",
    "\n",
    "from myPackage.module1 import *    \n",
    "print(module_PI)\n",
    "print(mySum(10,20))\n",
    "# --> import뒤는 짧게 적어주는게 좋음!! 아니면 alias 사용하기 \n",
    "\n",
    "\n",
    "\n",
    "\n",
    "\n",
    "\n",
    "\n"
   ]
  },
  {
   "cell_type": "code",
   "execution_count": 5,
   "metadata": {},
   "outputs": [
    {
     "name": "stdout",
     "output_type": "stream",
     "text": [
      "3.141592\n",
      "30\n"
     ]
    }
   ],
   "source": [
    "\n",
    "\n",
    "\n",
    "\n",
    "\n",
    "\n",
    "\n",
    "\n",
    "\n",
    "\n",
    "\n"
   ]
  },
  {
   "cell_type": "code",
   "execution_count": null,
   "metadata": {},
   "outputs": [],
   "source": [
    "\n",
    "\n",
    "\n",
    "\n",
    "\n",
    "\n",
    "\n",
    "\n",
    "\n",
    "\n",
    "\n"
   ]
  }
 ],
 "metadata": {
  "kernelspec": {
   "display_name": "[CPU_ENV]",
   "language": "python",
   "name": "cpu_env"
  },
  "language_info": {
   "codemirror_mode": {
    "name": "ipython",
    "version": 3
   },
   "file_extension": ".py",
   "mimetype": "text/x-python",
   "name": "python",
   "nbconvert_exporter": "python",
   "pygments_lexer": "ipython3",
   "version": "3.6.9"
  }
 },
 "nbformat": 4,
 "nbformat_minor": 2
}
