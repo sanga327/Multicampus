{
 "cells": [
  {
   "cell_type": "markdown",
   "metadata": {},
   "source": [
    "## Tensorflow\n",
    "다른 package,module에 비해 살짝 특이한 형태의 library\n",
    "Tensorflow는 3가지 구성요소로 이해하면 쉬움\n",
    "1. Node: 수학적인 연산, 데이터의 입출력을 담당\n",
    "2. edge: 동적 데이터를 노드로 실어 나르는 역할\n",
    "3. Tensor: 다차원배열형태의 동적 데이터 "
   ]
  },
  {
   "cell_type": "code",
   "execution_count": 5,
   "metadata": {},
   "outputs": [
    {
     "name": "stdout",
     "output_type": "stream",
     "text": [
      "Hello World!!\n"
     ]
    }
   ],
   "source": [
    "import tensorflow as tf  # 첫번째에는 warning 뜨고 한 번 더 실행하면 실행됨\n",
    "\n",
    "node1 = tf.constant(\"Hello World!!\")\n",
    "\n",
    "## graph를 실행시키기 위해서는 runner가 필요\n",
    "## session이라고 불리는 runner를 생성함\n",
    "\n",
    "sess = tf.Session()\n",
    "sess.run(node1)\n",
    "\n",
    "print(sess.run(node1).decode())  # decode안하면 앞의 b는 byte string을 나타냄."
   ]
  },
  {
   "cell_type": "markdown",
   "metadata": {},
   "source": [
    "#### 2개의 값을 더하는 tensorflow graph를 생성하고 실행시켜서 값을 구해보자.\n"
   ]
  },
  {
   "cell_type": "code",
   "execution_count": 8,
   "metadata": {},
   "outputs": [
    {
     "name": "stdout",
     "output_type": "stream",
     "text": [
      "30.0\n",
      "[10.0, 20.0]\n"
     ]
    }
   ],
   "source": [
    "import tensorflow as tf\n",
    "\n",
    "node1 = tf.constant(10, dtype=tf.float32)\n",
    "node2 = tf.constant(20, dtype=tf.float32)\n",
    "\n",
    "node3 = node1 + node2 \n",
    "\n",
    "sess= tf.Session()\n",
    "sess.run(node3)\n",
    "\n",
    "print(sess.run(node3))\n",
    "print(sess.run([node1,node2]))"
   ]
  },
  {
   "cell_type": "markdown",
   "metadata": {},
   "source": [
    "#### 위의 예제는 실행시키는 시점에 이미 각 노드의 값이 결정되어 있음 \n",
    "- constant(상수이기 때문에)\n",
    "\n",
    "#### 만약 실행시키는 시점에 각 노드의 값을 결정해서 실행시키려면 어떻게 해야 할까?\n"
   ]
  },
  {
   "cell_type": "code",
   "execution_count": 13,
   "metadata": {},
   "outputs": [
    {
     "name": "stdout",
     "output_type": "stream",
     "text": [
      "10\n",
      "20\n",
      "덧셈결과:30.0\n"
     ]
    }
   ],
   "source": [
    "import tensorflow as tf\n",
    "\n",
    "node1 = tf.placeholder(dtype=tf.float32) # 입력 parameter\n",
    "node2 = tf.placeholder(dtype=tf.float32)\n",
    "\n",
    "node3 = node1+node2\n",
    "\n",
    "sess = tf.Session()\n",
    "#feed_dict: 입력값 채워줘야 제대로 실행되므로. node1,node2에 dict 형태로 채워주겠다.\n",
    "result = sess.run(node3, \n",
    "                  feed_dict={node1:input(),\n",
    "                             node2:input()})  \n",
    "\n",
    "print(\"덧셈결과:{}\".format(result))\n"
   ]
  },
  {
   "cell_type": "markdown",
   "metadata": {},
   "source": [
    "# 1224\n"
   ]
  },
  {
   "cell_type": "markdown",
   "metadata": {},
   "source": [
    "## linear regression을 Tensorflow를 이용해서 구현해보자!\n",
    "## 1. 단순선형회귀\n",
    "\n",
    "참고 블로그: https://datascienceschool.net/view-notebook/55ca1c4c0213445d92ee5a5f297c709f/"
   ]
  },
  {
   "cell_type": "code",
   "execution_count": 4,
   "metadata": {},
   "outputs": [
    {
     "name": "stdout",
     "output_type": "stream",
     "text": [
      "W값: [0.25209442], b값: [-2.138957], cost값: 58.11973190307617\n",
      "W값: [2.4243307], b값: [0.03539643], cost값: 0.13412441313266754\n",
      "W값: [2.206122], b값: [0.53143704], cost값: 0.03164798021316528\n",
      "W값: [2.1001246], b값: [0.7723931], cost값: 0.007467621937394142\n",
      "W값: [2.048636], b값: [0.88943887], cost값: 0.0017620340222492814\n",
      "W값: [2.0236251], b값: [0.9462946], cost값: 0.00041576483636163175\n",
      "W값: [2.0114763], b값: [0.97391164], cost값: 9.81060802587308e-05\n",
      "W값: [2.0055752], b값: [0.9873267], cost값: 2.3152339053922333e-05\n",
      "W값: [2.0027087], b값: [0.9938427], cost값: 5.465053618536331e-06\n",
      "W값: [2.001317], b값: [0.9970069], cost값: 1.291578882955946e-06\n"
     ]
    }
   ],
   "source": [
    "# 1. 필요한 module을 import\n",
    "import tensorflow as tf\n",
    "\n",
    "# 2. training data set\n",
    "x_data = [1,2,3]\n",
    "y_data = [3,5,7]\n",
    "\n",
    "# 3. placeholder(tensorflow 그래프에 입력을 주기 위한 파라미터 역할)\n",
    "x = tf.placeholder(dtype=tf.float32)\n",
    "y = tf.placeholder(dtype=tf.float32)\n",
    "\n",
    "# 4. Weight, bias\n",
    "W = tf.Variable(tf.random_normal([1]),name=\"weight\") # random한 실수값 1개 지정 \n",
    "                                                     # 1차함수이므로 W 1개 필요함 \n",
    "                                                     # [1]:1차원이고 1개 필요 / [1,2]: 2차원이고 1행2열\n",
    "b = tf.Variable(tf.random_normal([1]),name=\"bias\")  # 이름은 같지만 않으면 아무 이름이나 해도 상관없음     \n",
    "\n",
    "# 5. Hypothesis \n",
    "H = W*x+b  # -> 그래프는 H에 W,x,b가 각각 연결된 형태일 것! \n",
    "\n",
    "# 6. Cost function(Loss function)\n",
    "# 가설에서 y값을 빼고 그 값을 제곱해서 평균을 구해보자!\n",
    "cost = tf.reduce_mean(tf.square(H-y))\n",
    "\n",
    "# 7. train node를 생성\n",
    "# gradient descent : 경사가 가장 빠른 길로 가다보면 가장 빠른 길로 가게될 것! \n",
    "optimizer = tf.train.GradientDescentOptimizer(learning_rate=0.01)  #경사 빠른 방향으로 얼마나 움직일지 정해줄 수 있음 \n",
    "train = optimizer.minimize(cost)\n",
    "\n",
    "# 8. 그래프를 실행시키기 위해서 runner(session)\n",
    "#    Variable을 사용하면 학습하기 전에 반드시 초기화를 해야 함\n",
    "sess = tf.Session()\n",
    "sess.run(tf.global_variables_initializer())  # 초기화 \n",
    "\n",
    "# 9. learning 작업(학습) \n",
    "for step in range(3000):  # 3000번 train node를 실행\n",
    "    # sess.run(train)   이렇게만 하면 내부적으로는 값이 바뀌지만 결과값으로 나오지 않음\n",
    "    _,w_val,cost_val,b_val =sess.run([train,W,cost,b],  # _ : 관용적으로 사용하지 않는 변수(변수명)\n",
    "                                     feed_dict={      # x,y는 placeholder로 잡혀있으므로 feed 해줘야함\n",
    "                                         x:x_data,\n",
    "                                         y:y_data})\n",
    "    if step %300==0: # 300,600,900,1200,..번째에서 값들을 그래프에 찍어보겠다.\n",
    "        print(\"W값: {}, b값: {}, cost값: {}\".format(w_val,\n",
    "                                                 b_val,\n",
    "                                                 cost_val))\n"
   ]
  },
  {
   "cell_type": "markdown",
   "metadata": {},
   "source": [
    "#### 학습이 끝남! -> 최적의 W와 b값을 찾아내서 H를 만들었음\n"
   ]
  },
  {
   "cell_type": "code",
   "execution_count": 5,
   "metadata": {
    "scrolled": true
   },
   "outputs": [
    {
     "data": {
      "text/plain": [
       "array([401.12698], dtype=float32)"
      ]
     },
     "execution_count": 5,
     "metadata": {},
     "output_type": "execute_result"
    }
   ],
   "source": [
    "# prediction\n",
    "sess.run(H, feed_dict = {x:200}) # 가설이 완료되었으므로"
   ]
  },
  {
   "cell_type": "markdown",
   "metadata": {},
   "source": [
    "##  실습 - ozone 데이터"
   ]
  },
  {
   "cell_type": "code",
   "execution_count": 18,
   "metadata": {},
   "outputs": [],
   "source": [
    "# 온도에 따른 Ozone 데이터를 학습한 후 Prediction까지 진행\n",
    "# 필요한 module을 import\n",
    "import tensorflow as tf\n",
    "import numpy as np\n",
    "import pandas as pd\n",
    "import matplotlib.pyplot as plt  # 선형인지 그래프 그려줄 수 있는 모듈\n"
   ]
  },
  {
   "cell_type": "markdown",
   "metadata": {},
   "source": [
    "#### data loading\n"
   ]
  },
  {
   "cell_type": "code",
   "execution_count": null,
   "metadata": {},
   "outputs": [],
   "source": [
    "# 학습 데이터를 확보해서 전처리 과정을 거쳐야 함\n",
    "df = pd.read_csv(\"./data/ozone.csv\")\n",
    "# 데이터 파악하기\n",
    "# df.head()\n",
    "# df.shape() : 데이터의 구조 : (153,6)\n",
    "# df.display()\n",
    "print(\"읽어들인 총 데이터의 shape:{}\".format(df.shape))\n"
   ]
  },
  {
   "cell_type": "markdown",
   "metadata": {},
   "source": [
    "#### 결측치 제거"
   ]
  },
  {
   "cell_type": "code",
   "execution_count": null,
   "metadata": {},
   "outputs": [],
   "source": [
    "# 결측치 제거 시 다른 column에 의해서 너무 많은 행이 제거되는 것을 방지하기 위해 필요한 column만 추출\n",
    "df = pd.DataFrame(df[[\"Ozone\",\"Temp\"]] )\n",
    "# 결측치 제거 -원본은 유지\n",
    "df = df.dropna(how=\"any\",inplace=False)\n",
    "print(\"결측치를 제거한 후 남은 데이터:{}\".format(df.shape))"
   ]
  },
  {
   "cell_type": "markdown",
   "metadata": {},
   "source": [
    "#### 이상치 제거\n",
    "\n",
    "- 이상치를 찾기 위해서 Tukey Fence 방식을 이용(IQR방식 이용)\n",
    "- IQR값 = 3사분위값 - 1사분위값\n",
    "- 만약 (3사분위값+IQR*1.5)을 초과하는 값이 존재하면 이상치\n",
    "- 만약 (1사분위값-IQR*1.5) 미만의 값이 존재하면 이상치"
   ]
  },
  {
   "cell_type": "code",
   "execution_count": 40,
   "metadata": {
    "collapsed": true
   },
   "outputs": [
    {
     "name": "stdout",
     "output_type": "stream",
     "text": [
      "131.125\n",
      "이상치를 제거한 후 남은 데이터:(114, 2)\n"
     ]
    },
    {
     "data": {
      "image/png": "[encoded data removed]",
      "text/plain": [
       "<Figure size 432x288 with 1 Axes>"
      ]
     },
     "metadata": {
      "needs_background": "light"
     },
     "output_type": "display_data"
    }
   ],
   "source": [
    "# 각 column(온도와 오존)에 대해서 boxplot을 그려보자.\n",
    "plt.boxplot(df[\"Temp\"])  # 온도는 이상치 없음\n",
    "plt.boxplot(df[\"Ozone\"])  # 오존은 이상치 있음 \n",
    "\n",
    "q1,q3 = np.percentile(df[\"Ozone\"],[25,75])\n",
    "# 1사분위 : 18.0 , 3사분위 : 63.25\n",
    "iqr = q3-q1\n",
    "upper = q3+iqr*1.5\n",
    "print(upper)  # 131.125\n",
    "mask = df[\"Ozone\"]>upper\n",
    "df = df.loc[~mask]   # ~: not의 의미\n",
    "\n",
    "print(\"이상치를 제거한 후 남은 데이터:{}\".format(df.shape)) # (114, 2)\n"
   ]
  },
  {
   "cell_type": "markdown",
   "metadata": {},
   "source": [
    "#### linear regression을 하기 전에, 데이터가 선형관계 이루고 있는지 경향성 확인\n",
    "- 산점도(scatter)를 이용하여 데이터의 경향성을 확인해 보자.\n",
    "\n",
    "\n"
   ]
  },
  {
   "cell_type": "code",
   "execution_count": 41,
   "metadata": {},
   "outputs": [
    {
     "data": {
      "text/plain": [
       "<matplotlib.collections.PathCollection at 0x17f733295c0>"
      ]
     },
     "execution_count": 41,
     "metadata": {},
     "output_type": "execute_result"
    },
    {
     "data": {
      "image/png": "[encoded data removed]",
      "text/plain": [
       "<Figure size 432x288 with 1 Axes>"
      ]
     },
     "metadata": {
      "needs_background": "light"
     },
     "output_type": "display_data"
    }
   ],
   "source": [
    "plt.scatter(df[\"Temp\"],df[\"Ozone\"])\n"
   ]
  },
  {
   "cell_type": "code",
   "execution_count": 58,
   "metadata": {
    "collapsed": true
   },
   "outputs": [
    {
     "name": "stdout",
     "output_type": "stream",
     "text": [
      "cost값은:4830.58154296875\n",
      "cost값은:668.6211547851562\n",
      "cost값은:668.1170043945312\n",
      "cost값은:667.61376953125\n",
      "cost값은:667.1114501953125\n",
      "cost값은:666.6098022460938\n",
      "cost값은:666.1092529296875\n",
      "cost값은:665.6097412109375\n",
      "cost값은:665.1107177734375\n",
      "cost값은:664.61279296875\n",
      "cost값은:664.11572265625\n",
      "cost값은:663.6195678710938\n",
      "cost값은:663.124267578125\n",
      "cost값은:662.6298828125\n",
      "cost값은:662.13623046875\n",
      "cost값은:661.6434326171875\n",
      "cost값은:661.1517333984375\n",
      "cost값은:660.6607666015625\n",
      "cost값은:660.170654296875\n",
      "cost값은:659.6812744140625\n",
      "cost값은:659.1929931640625\n",
      "cost값은:658.7054443359375\n",
      "cost값은:658.2188110351562\n",
      "cost값은:657.73291015625\n",
      "cost값은:657.2479248046875\n",
      "cost값은:656.7639770507812\n",
      "cost값은:656.2806396484375\n",
      "cost값은:655.79833984375\n",
      "cost값은:655.3168334960938\n",
      "cost값은:654.8360595703125\n",
      "cost값은:654.3562622070312\n",
      "cost값은:653.877197265625\n",
      "cost값은:653.3991088867188\n",
      "cost값은:652.921875\n",
      "cost값은:652.4453735351562\n",
      "cost값은:651.9697265625\n",
      "cost값은:651.4949951171875\n",
      "cost값은:651.0211181640625\n",
      "cost값은:650.5479125976562\n",
      "cost값은:650.07568359375\n",
      "cost값은:649.6041870117188\n",
      "cost값은:649.133544921875\n",
      "cost값은:648.663818359375\n",
      "cost값은:648.1949462890625\n",
      "cost값은:647.7267456054688\n",
      "cost값은:647.2593383789062\n",
      "cost값은:646.7927856445312\n",
      "cost값은:646.3273315429688\n",
      "cost값은:645.862060546875\n",
      "cost값은:645.3983764648438\n",
      "cost값은:644.9351806640625\n",
      "cost값은:644.4725341796875\n",
      "cost값은:644.0112915039062\n",
      "cost값은:643.550537109375\n",
      "cost값은:643.0903930664062\n",
      "cost값은:642.631591796875\n",
      "cost값은:642.1730346679688\n",
      "cost값은:641.715576171875\n",
      "cost값은:641.2589721679688\n",
      "cost값은:640.8027954101562\n",
      "cost값은:640.3480224609375\n",
      "cost값은:639.8936157226562\n",
      "cost값은:639.4398803710938\n",
      "cost값은:638.9874877929688\n",
      "cost값은:638.5355834960938\n",
      "cost값은:638.0843505859375\n",
      "cost값은:637.63427734375\n",
      "cost값은:637.1845703125\n",
      "cost값은:636.7359008789062\n",
      "cost값은:636.2880859375\n",
      "cost값은:635.8406372070312\n",
      "cost값은:635.3945922851562\n",
      "cost값은:634.9490966796875\n",
      "cost값은:634.50390625\n",
      "cost값은:634.0603637695312\n",
      "cost값은:633.6171264648438\n",
      "cost값은:633.1744384765625\n",
      "cost값은:632.7330932617188\n",
      "cost값은:632.2921752929688\n",
      "cost값은:631.8519287109375\n",
      "cost값은:631.412841796875\n",
      "cost값은:630.9742431640625\n",
      "cost값은:630.536376953125\n",
      "cost값은:630.0994873046875\n",
      "cost값은:629.6630859375\n",
      "cost값은:629.2277221679688\n",
      "cost값은:628.7931518554688\n",
      "cost값은:628.3590087890625\n",
      "cost값은:627.9261474609375\n",
      "cost값은:627.4937744140625\n",
      "cost값은:627.061767578125\n",
      "cost값은:626.6312255859375\n",
      "cost값은:626.2012329101562\n",
      "cost값은:625.7715454101562\n",
      "cost값은:625.3432006835938\n",
      "cost값은:624.9153442382812\n",
      "cost값은:624.4881591796875\n",
      "cost값은:624.06201171875\n",
      "cost값은:623.6363525390625\n",
      "cost값은:623.2113647460938\n"
     ]
    }
   ],
   "source": [
    "# linear regression\n",
    "# 1. training data set 준비\n",
    "x_data = df[\"Temp\"] \n",
    "y_data = df[\"Ozone\"]\n",
    "# 2. 입력을 받아들이는 node인 placeholder를 정의\n",
    "x = tf.placeholder(dtype=tf.float32)\n",
    "y = tf.placeholder(dtype=tf.float32)\n",
    "# 3. Weight & bias를 정의\n",
    "W = tf.Variable(tf.random_normal([1]),name=\"weight\")\n",
    "b = tf.Variable(tf.random_normal([1]),name=\"bias\")\n",
    "# 4. 가설(Hypothesis)정의\n",
    "H = W*x+b\n",
    "# 5. cost function 정의\n",
    "cost = tf.reduce_mean(tf.square(H-y))\n",
    "# 6. train\n",
    "optimizer = tf.train.GradientDescentOptimizer(learning_rate=0.0001) # 기준이 0.01 -> cost보고 조절해나가는 것\n",
    "train = optimizer.minimize(cost)\n",
    "# 7. session: 초기화 작업\n",
    "sess = tf.Session()  # graph를 실행시키기 위해 필요\n",
    "sess.run(tf.global_variables_initializer())\n",
    "# 8. 학습\n",
    "for step in range(3000):\n",
    "    _,cost_val = sess.run([train,cost], \n",
    "                          feed_dict={x:x_data,\n",
    "                                     y: y_data})\n",
    "    if step %300==0:\n",
    "        print(\"cost값은:{}\".format(cost_val))"
   ]
  },
  {
   "cell_type": "markdown",
   "metadata": {},
   "source": [
    "- 우리가 조절할 수 있는 값: learning rate , 학습 횟수 \n",
    "\n",
    "but, cost 0에 가까운 값 나오지 않음\n",
    "\n",
    "- 이유? \n",
    "원래 데이터의 단위값 차이가 클수록 제대로 학습할 수 없음\n",
    "\n",
    "-> 학습하기 적절한 전처리를 한 번 더 해줘야 함 (표준화 or 정규화)\n",
    "\n",
    "\n",
    "\n",
    "\n",
    "\n",
    "\n"
   ]
  },
  {
   "cell_type": "markdown",
   "metadata": {},
   "source": [
    " 정제된 데이터를 정규화나 표준화를 이용해서 값의 범위를 조절해야 함! \n",
    " \n",
    " -> 그래야 학습이 정상적으로 이루어질 수 있음\n",
    " \n",
    "데이터를 표준화 방식으로 다시 만들어서 학습을 진행\n",
    "- Normalization(표준화): 각 데이터를 다음과 같은 방식으로 비율적으로 축소시키는 방식\n",
    "- 각 요소의 값 => (요소값 - 전체 데이터의 최소값) / (전체 데이터의 최대값-전체 데이터의 최소값)  => 0~1사이 값\n",
    "\n"
   ]
  },
  {
   "cell_type": "code",
   "execution_count": 69,
   "metadata": {},
   "outputs": [
    {
     "name": "stderr",
     "output_type": "stream",
     "text": [
      "C:\\Users\\student\\Anaconda3\\envs\\cpu_env\\lib\\site-packages\\ipykernel_launcher.py:1: SettingWithCopyWarning: \n",
      "A value is trying to be set on a copy of a slice from a DataFrame.\n",
      "Try using .loc[row_indexer,col_indexer] = value instead\n",
      "\n",
      "See the caveats in the documentation: http://pandas.pydata.org/pandas-docs/stable/user_guide/indexing.html#returning-a-view-versus-a-copy\n",
      "  \"\"\"Entry point for launching an IPython kernel.\n",
      "C:\\Users\\student\\Anaconda3\\envs\\cpu_env\\lib\\site-packages\\ipykernel_launcher.py:3: SettingWithCopyWarning: \n",
      "A value is trying to be set on a copy of a slice from a DataFrame.\n",
      "Try using .loc[row_indexer,col_indexer] = value instead\n",
      "\n",
      "See the caveats in the documentation: http://pandas.pydata.org/pandas-docs/stable/user_guide/indexing.html#returning-a-view-versus-a-copy\n",
      "  This is separate from the ipykernel package so we can avoid doing imports until\n"
     ]
    },
    {
     "data": {
      "text/plain": [
       "<matplotlib.collections.PathCollection at 0x17f7601f748>"
      ]
     },
     "execution_count": 69,
     "metadata": {},
     "output_type": "execute_result"
    },
    {
     "data": {
      "image/png": "[encoded data removed]",
      "text/plain": [
       "<Figure size 432x288 with 1 Axes>"
      ]
     },
     "metadata": {
      "needs_background": "light"
     },
     "output_type": "display_data"
    }
   ],
   "source": [
    "df[\"Temp_Norm\"]= (df[\"Temp\"] - df[\"Temp\"].min())/(df[\"Temp\"].max()-df[\"Temp\"].min())       \n",
    "    # 결과는 series로 나올 것 -> 모든 온도값 조절된 값으로 출력\n",
    "df[\"Ozone_Norm\"]= (df[\"Ozone\"] - df[\"Ozone\"].min())/(df[\"Ozone\"].max()-df[\"Ozone\"].min())  \n",
    "\n",
    "df.head()\n",
    "\n",
    "#plt.scatter(df[\"Temp\"],df[\"Ozone\"])\n",
    "plt.scatter(df[\"Temp_Norm\"],df[\"Ozone_Norm\"])\n",
    "\n",
    "\n"
   ]
  },
  {
   "cell_type": "code",
   "execution_count": 91,
   "metadata": {},
   "outputs": [
    {
     "name": "stdout",
     "output_type": "stream",
     "text": [
      "cost값은:1.5372716188430786\n",
      "cost값은:0.05964955687522888\n",
      "cost값은:0.04589308798313141\n",
      "cost값은:0.03778411075472832\n",
      "cost값은:0.03300405293703079\n",
      "cost값은:0.030186312273144722\n",
      "cost값은:0.028525331988930702\n",
      "cost값은:0.02754620648920536\n",
      "cost값은:0.02696903981268406\n",
      "cost값은:0.026628810912370682\n"
     ]
    }
   ],
   "source": [
    "# 1. training data set 준비\n",
    "x_data = df[\"Temp_Norm\"] \n",
    "y_data = df[\"Ozone_Norm\"]\n",
    "# 2. 입력을 받아들이는 node인 placeholder를 정의\n",
    "x = tf.placeholder(dtype=tf.float32)\n",
    "y = tf.placeholder(dtype=tf.float32)\n",
    "# 3. Weight & bias를 정의\n",
    "W = tf.Variable(tf.random_normal([1]),name=\"weight\")\n",
    "b = tf.Variable(tf.random_normal([1]),name=\"bias\")\n",
    "# 4. 가설(Hypothesis)정의\n",
    "H = W*x+b\n",
    "# 5. cost function 정의\n",
    "cost = tf.reduce_mean(tf.square(H-y))\n",
    "# 6. train\n",
    "optimizer = tf.train.GradientDescentOptimizer(learning_rate=0.01) # 기준이 0.01 -> cost보고 조절해나가는 것\n",
    "train = optimizer.minimize(cost)\n",
    "# 7. session: 초기화 작업\n",
    "sess = tf.Session()  # graph를 실행시키기 위해 필요\n",
    "sess.run(tf.global_variables_initializer())\n",
    "# 8. 학습\n",
    "for step in range(3000):\n",
    "    _,cost_val,W_val,b_val = sess.run([train,cost,W,b], \n",
    "                          feed_dict={x:x_data,\n",
    "                                     y:y_data})\n",
    "    if step %300==0:\n",
    "        print(\"cost값은:{}\".format(cost_val))"
   ]
  },
  {
   "cell_type": "code",
   "execution_count": 92,
   "metadata": {},
   "outputs": [
    {
     "data": {
      "text/plain": [
       "[<matplotlib.lines.Line2D at 0x17f7b8eb630>]"
      ]
     },
     "execution_count": 92,
     "metadata": {},
     "output_type": "execute_result"
    },
    {
     "data": {
      "image/png": "[encoded data removed]",
      "text/plain": [
       "<Figure size 432x288 with 1 Axes>"
      ]
     },
     "metadata": {
      "needs_background": "light"
     },
     "output_type": "display_data"
    }
   ],
   "source": [
    "# 학습이 종료된 후 최종적으로 얻은 W와 b의 값을 이용하여 line graph를 산점도와 함께 그려보자. \n",
    "plt.scatter(df[\"Temp_Norm\"],df[\"Ozone_Norm\"])\n",
    "plt.plot(df[\"Temp_Norm\"],df[\"Temp_Norm\"]*sess.run(W)+sess.run(b))   # W와 b는 node이므로 sess.run해줘야 함\n"
   ]
  },
  {
   "cell_type": "markdown",
   "metadata": {},
   "source": [
    "#### 학습이 끝났으니 Prediction을 해보자!\n",
    "#### 화씨 62도에서 오존량을 예측해보자.\n"
   ]
  },
  {
   "cell_type": "code",
   "execution_count": 97,
   "metadata": {},
   "outputs": [
    {
     "name": "stdout",
     "output_type": "stream",
     "text": [
      "[43.613148]\n",
      "[0.38226682]\n",
      "[47.254284]\n"
     ]
    }
   ],
   "source": [
    "# 좌표계가 다르므로 이렇게 62를 대입해서는 안됨!\n",
    "print(sess.run(H, feed_dict={x:62}))  # 잘못된 결과!!!\n",
    "\n",
    "# 81를 normalization해 준 값을 넣어줘야 함 !\n",
    "tmp = (81-df[\"Temp\"].min())/(df[\"Temp\"].max()-df[\"Temp\"].min())\n",
    "print(sess.run(H, feed_dict={x:tmp}))   # 이 값은 제대로 된 좌표계의 ozone값이 아님\n",
    "# ozone값을 원데이터 값으로 바꿔주자.\n",
    "result_norm = sess.run(H, feed_dict={x:tmp})\n",
    "result = result_norm*(df[\"Ozone\"].max()-df[\"Ozone\"].min())+df[\"Ozone\"].min()\n",
    "print(result)"
   ]
  },
  {
   "cell_type": "markdown",
   "metadata": {},
   "source": [
    "# 1226\n",
    "\n",
    "## Review\n",
    "## 단순선형회귀(simple linear regression)\n",
    "온도에 따른 오존량의 측정치 데이터를 이용하자!\n",
    "\n",
    "\n",
    "\n",
    "\n",
    "\n"
   ]
  },
  {
   "cell_type": "markdown",
   "metadata": {},
   "source": [
    "#### 1. data loading (raw data loading)"
   ]
  },
  {
   "cell_type": "code",
   "execution_count": null,
   "metadata": {},
   "outputs": [],
   "source": [
    "df = pd.read_csv(\"./data/ozone.csv\")\n",
    "# df.head()"
   ]
  },
  {
   "cell_type": "markdown",
   "metadata": {},
   "source": [
    "#### 2. 데이터의 전처리를 진행 (Data Pre processiong)\n",
    "\n",
    "\n",
    "\n",
    "\n",
    "\n",
    "\n"
   ]
  },
  {
   "cell_type": "code",
   "execution_count": 25,
   "metadata": {},
   "outputs": [
    {
     "data": {
      "image/png": "[encoded data removed]",
      "text/plain": [
       "<Figure size 432x288 with 1 Axes>"
      ]
     },
     "metadata": {
      "needs_background": "light"
     },
     "output_type": "display_data"
    }
   ],
   "source": [
    "# 2-1. 필요한 column부터 추출\n",
    "df = df[[\"Ozone\",\"Temp\"]]  # shape: (153,2)\n",
    "df.head()\n",
    "\n",
    "# 2-2. 결측치 처리 \n",
    "df = df.dropna(how=\"any\",inplace=False)\n",
    "df.shape  # (116, 2) \n",
    "\n",
    "# 2-3. 이상치 처리 (Tukey Fences 방식 이용 - IQR 기반)\n",
    "# 이상치가 존재하는지 확인 -> boxplot으로 확인\n",
    "plt.boxplot(df[\"Temp\"])  # 이상치 존재 X\n",
    "plt.boxplot(df[\"Ozone\"])  # 이상치 2개\n",
    "# IQR값을 구해서 이를 이용해서 상위, 하위 이상치의 boundary를 계산\n",
    "# IQR = 3사분위값 - 1사분위값\n",
    "q1,q3 = np.percentile(df[\"Ozone\"],[25,75])  \n",
    "iqr = q3-q1\n",
    "# 상위 이상치를 처리하기 위한 경계값\n",
    "upper = q3+iqr*1.5   # 131.125\n",
    "# boolean mask 생성\n",
    "mask = df[\"Ozone\"]>upper \n",
    "# 이상치 아닌 값들만 추출\n",
    "df = df.loc[~mask]  \n",
    "df  # shape: (114,2)  -> 이상치 2개 처리된 것을 알 수 있음\n",
    "\n",
    "# 2-4. 데이터가 선형적 관계에 있는지를 확인\n",
    "# scatter(산점도)를 이용하면 데이터의 관계를 쉽게 파악할 수 있음\n",
    "# plt.scatter(df[\"Temp\"],df[\"Ozone\"])\n",
    "\n",
    "# 2-5. 정형화 혹은 표준화를 이용해서 데이터의 scale 변환\n",
    "# 정규화 = (요소값 - 최소값) / (최대값 - 최소값)\n",
    "# -> 0~1사이의 값으로 scale\n",
    "# 표준화(standardization) = (요소값-평균) / 표준편차\n",
    "# 정규화방식을 이용해서 데이터를 변형\n",
    "# 일반적으로는 module을 이용. 우리는 프로그램으로 처리 \n",
    "df[\"Temp_Norm\"] = (df[\"Temp\"]-df[\"Temp\"].min())/(df[\"Temp\"].max()-df[\"Temp\"].min())\n",
    "df[\"Ozone_Norm\"] = (df[\"Ozone\"]-df[\"Ozone\"].min())/(df[\"Ozone\"].max()-df[\"Ozone\"].min())\n",
    "\n",
    "# 학습에 적합한 데이터를 완성\n",
    "\n"
   ]
  },
  {
   "cell_type": "markdown",
   "metadata": {},
   "source": [
    "## machine learning (Tensorflow)\n",
    "#### 1. training data set\n"
   ]
  },
  {
   "cell_type": "code",
   "execution_count": 28,
   "metadata": {},
   "outputs": [],
   "source": [
    "x_data = df[\"Temp_Norm\"]\n",
    "y_data = df[\"Ozone_Norm\"]"
   ]
  },
  {
   "cell_type": "markdown",
   "metadata": {},
   "source": [
    "#### 2. placeholder"
   ]
  },
  {
   "cell_type": "code",
   "execution_count": 29,
   "metadata": {},
   "outputs": [],
   "source": [
    "x = tf.placeholder(dtype=tf.float32)\n",
    "y = tf.placeholder(dtype=tf.float32) "
   ]
  },
  {
   "cell_type": "markdown",
   "metadata": {},
   "source": [
    "#### 3. Weight & bias"
   ]
  },
  {
   "cell_type": "code",
   "execution_count": 30,
   "metadata": {},
   "outputs": [],
   "source": [
    "W = tf.Variable(tf.random_normal([1]),name =\"weight\")\n",
    "b = tf.Variable(tf.random_normal([1]),name=\"bias\")"
   ]
  },
  {
   "cell_type": "markdown",
   "metadata": {},
   "source": [
    "#### 4. Hypothesis"
   ]
  },
  {
   "cell_type": "code",
   "execution_count": 31,
   "metadata": {},
   "outputs": [],
   "source": [
    "H = W*x+b"
   ]
  },
  {
   "cell_type": "markdown",
   "metadata": {},
   "source": [
    "#### 5. cost function"
   ]
  },
  {
   "cell_type": "code",
   "execution_count": 32,
   "metadata": {},
   "outputs": [],
   "source": [
    "cost = tf.reduce_mean(tf.square(H-y))"
   ]
  },
  {
   "cell_type": "markdown",
   "metadata": {},
   "source": [
    "#### 6. train"
   ]
  },
  {
   "cell_type": "code",
   "execution_count": 36,
   "metadata": {},
   "outputs": [],
   "source": [
    "optimizer = tf.train.GradientDescentOptimizer(learning_rate=0.01)\n",
    "train = optimizer.minimize(cost)  # 미분 과정"
   ]
  },
  {
   "cell_type": "markdown",
   "metadata": {},
   "source": [
    "#### 7. session, 초기화\n"
   ]
  },
  {
   "cell_type": "code",
   "execution_count": 37,
   "metadata": {},
   "outputs": [],
   "source": [
    "sess = tf.Session()\n",
    "sess.run(tf.global_variables_initializer())"
   ]
  },
  {
   "cell_type": "markdown",
   "metadata": {},
   "source": [
    "#### 8. 학습"
   ]
  },
  {
   "cell_type": "code",
   "execution_count": 38,
   "metadata": {},
   "outputs": [
    {
     "name": "stdout",
     "output_type": "stream",
     "text": [
      "cost값:0.3462119400501251\n",
      "cost값:0.07087388634681702\n",
      "cost값:0.05250969156622887\n",
      "cost값:0.041684456169605255\n",
      "cost값:0.03530321642756462\n",
      "cost값:0.031541623175144196\n",
      "cost값:0.0293242447078228\n",
      "cost값:0.028017157688736916\n",
      "cost값:0.02724664844572544\n",
      "cost값:0.026792459189891815\n"
     ]
    }
   ],
   "source": [
    "for step in range(3000):\n",
    "    _,cost_val = sess.run([train,cost],\n",
    "                         feed_dict={x:x_data,\n",
    "                                   y:y_data})\n",
    "    if step%300==0:\n",
    "        print(\"cost값:{}\".format(cost_val))\n"
   ]
  },
  {
   "cell_type": "markdown",
   "metadata": {},
   "source": [
    "최적의 W 와 b를 구했음! -> 가설을 완성\n",
    "\n",
    "가설을 만든 이유: 예측을 위해서\n",
    "\n",
    "#### prediction\n",
    "온도가 화씨 80일 때 Ozone량을 알고싶다."
   ]
  },
  {
   "cell_type": "code",
   "execution_count": null,
   "metadata": {},
   "outputs": [],
   "source": [
    "print(sess.run(H, feed_dict={x:80})) \n",
    "# 이렇게 처리하면 문제가 있음! \n",
    "# 우리가 구한 가설은 scale된 데이터로 만든 것이기 때문에 제대로 된 결과 아님\n"
   ]
  },
  {
   "cell_type": "code",
   "execution_count": 40,
   "metadata": {},
   "outputs": [
    {
     "name": "stdout",
     "output_type": "stream",
     "text": [
      "[45.082558]\n"
     ]
    }
   ],
   "source": [
    "# 80이라는 온도를 0~1사이의 값으로 scale\n",
    "tmp = (80-df[\"Temp\"].min())/(df[\"Temp\"].max()-df[\"Temp\"].min())\n",
    "result_scale = sess.run(H, feed_dict={x:tmp}) # scale된 ozone값\n",
    "result = result_scale*(df[\"Ozone\"].max()-df[\"Ozone\"].min())+df[\"Ozone\"].min()\n",
    "print(result)\n"
   ]
  },
  {
   "cell_type": "markdown",
   "metadata": {},
   "source": [
    "## scipy의 stats module을 이용해서 해 보자!"
   ]
  },
  {
   "cell_type": "code",
   "execution_count": 42,
   "metadata": {},
   "outputs": [
    {
     "name": "stdout",
     "output_type": "stream",
     "text": [
      "LinregressResult(slope=2.344807849550286, intercept=-142.19084219133276, rvalue=0.7515377011359844, pvalue=5.802324426210489e-22, stderr=0.19448560867502498)\n",
      "45.39378577269011\n"
     ]
    }
   ],
   "source": [
    "# 학습에 필요한 데이터 scaling 안 해도 됨!\n",
    "x = df[\"Temp\"] \n",
    "y = df[\"Ozone\"]\n",
    "# 결측치 처리 등 일반적인 전처리는 하고 넣어야 함 \n",
    "\n",
    "result = stats.linregress(x,y)\n",
    "print(result)\n",
    "# slope=2.3448078495502, intercept=-142.190842191332, rvalue=0.7515377011359, pvalue=5.802324426210e-22, stderr=0.19448560867502\n",
    "print(80*result[0]+result[1])  # result[0]: 기울기, result[1]: 절편  \n",
    "# => 가설 식 실행한 것\n"
   ]
  },
  {
   "cell_type": "markdown",
   "metadata": {},
   "source": [
    "## 2. 다중선형회귀 (multiple linear regression)"
   ]
  },
  {
   "cell_type": "markdown",
   "metadata": {},
   "source": [
    "#### 독립변수가 2개 이상인 경우\n",
    "Hypothesis가 변경 \n",
    "- 단순선형회귀 => H = Wx+b\n",
    "- 다중선형회귀 => H = W1x1+w2x2+...+wnxn+b\n",
    "\n",
    "결국 matrix 형태로 W와 x가 표현된다.\n",
    "- H = matmul(X,W)+b\n"
   ]
  },
  {
   "cell_type": "markdown",
   "metadata": {},
   "source": [
    "#### 퀴즈성적을 이용한 최종시험성적 예측\n",
    "- 사용하는 데이터\n",
    "- 퀴즈1   퀴즈2   퀴즈3   최종성적\n",
    "- 73      80      75       152   \n",
    "- 93      88      93       185\n",
    "- 89      91      90       180\n",
    "- 96      98     100       196\n",
    "- 73      66      70       142\n",
    "- 80      90      50        ?\n"
   ]
  },
  {
   "cell_type": "code",
   "execution_count": 60,
   "metadata": {
    "collapsed": true
   },
   "outputs": [
    {
     "name": "stdout",
     "output_type": "stream",
     "text": [
      "cost값은:97106.2265625\n",
      "cost값은:41.22043991088867\n",
      "cost값은:35.0709342956543\n",
      "cost값은:29.844097137451172\n",
      "cost값은:25.4014949798584\n",
      "cost값은:21.6256046295166\n",
      "cost값은:18.41620445251465\n",
      "cost값은:15.688348770141602\n",
      "cost값은:13.369799613952637\n",
      "cost값은:11.399068832397461\n"
     ]
    },
    {
     "ename": "TypeError",
     "evalue": "unsupported operand type(s) for -: 'list' and 'list'",
     "output_type": "error",
     "traceback": [
      "\u001b[1;31m---------------------------------------------------------------------------\u001b[0m",
      "\u001b[1;31mTypeError\u001b[0m                                 Traceback (most recent call last)",
      "\u001b[1;32m<ipython-input-60-45e9f20670fa>\u001b[0m in \u001b[0;36m<module>\u001b[1;34m\u001b[0m\n\u001b[0;32m     37\u001b[0m \u001b[1;33m\u001b[0m\u001b[0m\n\u001b[0;32m     38\u001b[0m \u001b[0mxx\u001b[0m \u001b[1;33m=\u001b[0m \u001b[1;33m[\u001b[0m\u001b[1;33m[\u001b[0m\u001b[1;36m80\u001b[0m\u001b[1;33m,\u001b[0m\u001b[1;36m90\u001b[0m\u001b[1;33m,\u001b[0m\u001b[1;36m50\u001b[0m\u001b[1;33m]\u001b[0m\u001b[1;33m]\u001b[0m\u001b[1;33m\u001b[0m\u001b[1;33m\u001b[0m\u001b[0m\n\u001b[1;32m---> 39\u001b[1;33m \u001b[0mx_scale\u001b[0m \u001b[1;33m=\u001b[0m \u001b[1;33m(\u001b[0m\u001b[0mxx\u001b[0m\u001b[1;33m-\u001b[0m\u001b[0mmin\u001b[0m\u001b[1;33m(\u001b[0m\u001b[0mx_data\u001b[0m\u001b[1;33m)\u001b[0m\u001b[1;33m)\u001b[0m\u001b[1;33m/\u001b[0m\u001b[1;33m(\u001b[0m\u001b[0mmax\u001b[0m\u001b[1;33m(\u001b[0m\u001b[0mx_data\u001b[0m\u001b[1;33m)\u001b[0m\u001b[1;33m-\u001b[0m\u001b[0mmin\u001b[0m\u001b[1;33m(\u001b[0m\u001b[0mx_data\u001b[0m\u001b[1;33m)\u001b[0m\u001b[1;33m)\u001b[0m\u001b[1;33m\u001b[0m\u001b[1;33m\u001b[0m\u001b[0m\n\u001b[0m\u001b[0;32m     40\u001b[0m \u001b[0mresult_scale\u001b[0m \u001b[1;33m=\u001b[0m \u001b[0msess\u001b[0m\u001b[1;33m.\u001b[0m\u001b[0mrun\u001b[0m\u001b[1;33m(\u001b[0m\u001b[0mH\u001b[0m\u001b[1;33m,\u001b[0m \u001b[0mfeed_dict\u001b[0m\u001b[1;33m=\u001b[0m\u001b[1;33m{\u001b[0m\u001b[0mx\u001b[0m\u001b[1;33m:\u001b[0m\u001b[0mx_scale\u001b[0m\u001b[1;33m}\u001b[0m\u001b[1;33m)\u001b[0m\u001b[1;33m\u001b[0m\u001b[1;33m\u001b[0m\u001b[0m\n\u001b[0;32m     41\u001b[0m \u001b[0mresult\u001b[0m \u001b[1;33m=\u001b[0m \u001b[0mresult_scale\u001b[0m\u001b[1;33m*\u001b[0m\u001b[1;33m(\u001b[0m\u001b[0my_data\u001b[0m\u001b[1;33m.\u001b[0m\u001b[0mmax\u001b[0m\u001b[1;33m(\u001b[0m\u001b[1;33m)\u001b[0m\u001b[1;33m-\u001b[0m\u001b[0my_data\u001b[0m\u001b[1;33m.\u001b[0m\u001b[0mmin\u001b[0m\u001b[1;33m(\u001b[0m\u001b[1;33m)\u001b[0m\u001b[1;33m)\u001b[0m\u001b[1;33m+\u001b[0m\u001b[0my_data\u001b[0m\u001b[1;33m.\u001b[0m\u001b[0mmin\u001b[0m\u001b[1;33m(\u001b[0m\u001b[1;33m)\u001b[0m\u001b[1;33m\u001b[0m\u001b[1;33m\u001b[0m\u001b[0m\n",
      "\u001b[1;31mTypeError\u001b[0m: unsupported operand type(s) for -: 'list' and 'list'"
     ]
    }
   ],
   "source": [
    "# training data set\n",
    "x_data = [[73,80,75],\n",
    "          [93,88,93],\n",
    "          [89,91,90],\n",
    "          [96,98,100],\n",
    "          [73,66,70]]\n",
    "y_data = [[152],[185],[180],[196],[142]]\n",
    "\n",
    "# placeholder\n",
    "# 1차원이 아닌 경우에는 shape 잡아줘야 함!\n",
    "# [5,3]: 값 2개는 2차원. 5행 3열 자료. \n",
    "# 그런데 그렇게 써놓으면 데이터를 더 받아들일 수 없고, \n",
    "# 나중에 우리가 predict 할 때에도 5행 3열 데이터를 넣어줘야 하므로 행 데이터는 값을 정해놓으면 안됨!\n",
    "X = tf.placeholder(shape=[None,3], dtype=tf.float32)  \n",
    "Y = tf.placeholder(shape=[None,1], dtype=tf.float32)  \n",
    "# weight & bias\n",
    "W = tf.Variable(tf.random_normal([3,1]),name=\"weight\")\n",
    "b = tf.Variable(tf.random_normal([1]),name=\"bias\")\n",
    "# hypothesis\n",
    "H = tf.matmul(X,W)+b   # matmul: 행렬곱. 순서 주의하기! \n",
    "# cost function\n",
    "# 여기서부터는 동일\n",
    "cost = tf.reduce_mean(tf.square(H-Y))\n",
    "\n",
    "optimizer = tf.train.GradientDescentOptimizer(learning_rate=0.00001) # 기준이 0.01 -> cost보고 조절해나가는 것\n",
    "train = optimizer.minimize(cost)\n",
    "\n",
    "sess = tf.Session()  # graph를 실행시키기 위해 필요\n",
    "sess.run(tf.global_variables_initializer())\n",
    "\n",
    "for step in range(3000):\n",
    "    _,cost_val = sess.run([train,cost], \n",
    "                          feed_dict={X:x_data,\n",
    "                                     Y:y_data})\n",
    "    if step %300==0:\n",
    "        print(\"cost값은:{}\".format(cost_val))\n",
    "        \n",
    "xx = [[80,90,50]]\n",
    "x_scale = (xx-min(x_data))/(max(x_data)-min(x_data))\n",
    "result_scale = sess.run(H, feed_dict={x:x_scale}) \n",
    "result = result_scale*(y_data.max()-y_data.min())+y_data.min()\n",
    "print(result)\n",
    "\n",
    "#print(sess.run(H, feed_dict={X:xx})) \n",
    "\n"
   ]
  },
  {
   "cell_type": "markdown",
   "metadata": {},
   "source": [
    "## 다중선형회귀 연습문제\n",
    "관측된 Solar.R, Wind, Temp에 대한 Ozone량에 대한 데이터를 이용하여 machine learning을 진행하고\n",
    "\n",
    "- solar.R = 170, Wind= 7.4, Temp=67.0\n",
    "\n",
    "에 대한 Ozone 수치를 예측해라\n",
    "\n"
   ]
  },
  {
   "cell_type": "markdown",
   "metadata": {},
   "source": [
    "#### 1. data set 읽어들이기 & 결측치, 이상치 제거"
   ]
  },
  {
   "cell_type": "code",
   "execution_count": 282,
   "metadata": {
    "collapsed": true
   },
   "outputs": [
    {
     "name": "stdout",
     "output_type": "stream",
     "text": [
      "이상치를 제거한 후 남은 데이터:(106, 4)\n"
     ]
    },
    {
     "data": {
      "image/png": "[encoded data removed]",
      "text/plain": [
       "<Figure size 432x288 with 1 Axes>"
      ]
     },
     "metadata": {
      "needs_background": "light"
     },
     "output_type": "display_data"
    }
   ],
   "source": [
    "# 1. 데이터 읽어들이기\n",
    "df = pd.read_csv(\"./data/ozone.csv\")\n",
    "\n",
    "# 2. 결측치 제거\n",
    "# 결측치 제거 시 다른 column에 의해서 너무 많은 행이 제거되는 것을 방지하기 위해 필요한 column만 추출\n",
    "df = pd.DataFrame(df[[\"Solar.R\",\"Wind\",\"Temp\",\"Ozone\"]] )\n",
    "# 결측치 제거 -원본은 유지\n",
    "df = df.dropna(how=\"any\",inplace=False)\n",
    "\n",
    "# 3. 이상치 제거\n",
    "# 각 column(온도와 오존)에 대해서 boxplot을 그려보자.\n",
    "plt.boxplot(df[\"Temp\"])  # 온도는 이상치 없음\n",
    "plt.boxplot(df[\"Ozone\"])  # 오존은 이상치 있음 \n",
    "plt.boxplot(df[\"Wind\"])   # 이상치 있음 - 3개\n",
    "plt.boxplot(df[\"Temp\"])   # 이상치 없음\n",
    "\n",
    "# ozone 이상치 제거\n",
    "q1,q3 = np.percentile(df[\"Ozone\"],[25,75])\n",
    "iqr = q3-q1\n",
    "upper = q3+iqr*1.5\n",
    "mask = df[\"Ozone\"]>upper\n",
    "df = df.loc[~mask]   # ~: not의 의미\n",
    "\n",
    "# wind 이상치 제거\n",
    "q1,q3 = np.percentile(df[\"Wind\"],[25,75])\n",
    "iqr = q3-q1\n",
    "upper = q3+iqr*1.5\n",
    "mask = df[\"Wind\"]>upper\n",
    "df = df.loc[~mask]   # ~: not의 의미\n",
    "\n",
    "print(\"이상치를 제거한 후 남은 데이터:{}\".format(df.shape)) # (106, 4)\n"
   ]
  },
  {
   "cell_type": "markdown",
   "metadata": {},
   "source": [
    "#### 2. placeholder "
   ]
  },
  {
   "cell_type": "code",
   "execution_count": 221,
   "metadata": {},
   "outputs": [],
   "source": [
    "df[\"Solar.R_Norm\"] = (df[\"Solar.R\"]-df[\"Solar.R\"].min())/(df[\"Solar.R\"].max()-df[\"Solar.R\"].min())\n",
    "df[\"Wind_Norm\"] = (df[\"Wind\"]-df[\"Wind\"].min())/(df[\"Wind\"].max()-df[\"Wind\"].min())\n",
    "df[\"Temp_Norm\"] = (df[\"Temp\"]-df[\"Temp\"].min())/(df[\"Temp\"].max()-df[\"Temp\"].min())\n",
    "df[\"Ozone_Norm\"] = (df[\"Ozone\"]-df[\"Ozone\"].min())/(df[\"Ozone\"].max()-df[\"Ozone\"].min())\n",
    "\n",
    "x_data = df[[\"Solar.R_Norm\",\"Wind_Norm\",\"Temp_Norm\"]].values\n",
    "y_data = df[\"Ozone_Norm\"].values.reshape(-1,1)   # 행은 모르므로 1열 고정하고 나머지는 다 행으로 해라.\n",
    "\n",
    "X = tf.placeholder(shape=[None,3], dtype=tf.float32)  \n",
    "Y = tf.placeholder(shape=[None,1], dtype=tf.float32)  "
   ]
  },
  {
   "cell_type": "markdown",
   "metadata": {},
   "source": [
    "#### 3. weight & bias"
   ]
  },
  {
   "cell_type": "code",
   "execution_count": 222,
   "metadata": {},
   "outputs": [],
   "source": [
    "W = tf.Variable(tf.random_normal([3,1]),name=\"weight\")\n",
    "b = tf.Variable(tf.random_normal([1]),name=\"bias\")"
   ]
  },
  {
   "cell_type": "markdown",
   "metadata": {},
   "source": [
    "#### 4. Hypothesis"
   ]
  },
  {
   "cell_type": "code",
   "execution_count": 223,
   "metadata": {},
   "outputs": [],
   "source": [
    "H = tf.matmul(X,W)+b   # matmul: 행렬곱. 순서 주의하기! "
   ]
  },
  {
   "cell_type": "markdown",
   "metadata": {},
   "source": [
    "#### 5. cost function"
   ]
  },
  {
   "cell_type": "code",
   "execution_count": 224,
   "metadata": {},
   "outputs": [],
   "source": [
    "cost = tf.reduce_mean(tf.square(H-Y))\n",
    "\n",
    "optimizer = tf.train.GradientDescentOptimizer(learning_rate=0.01) # 기준이 0.01 -> cost보고 조절해나가는 것\n",
    "train = optimizer.minimize(cost)\n"
   ]
  },
  {
   "cell_type": "markdown",
   "metadata": {},
   "source": [
    "#### 7. sess"
   ]
  },
  {
   "cell_type": "code",
   "execution_count": 227,
   "metadata": {
    "collapsed": true
   },
   "outputs": [
    {
     "name": "stdout",
     "output_type": "stream",
     "text": [
      "cost값은:1.3542256355285645\n",
      "cost값은:0.03107420727610588\n",
      "cost값은:0.02817000262439251\n",
      "cost값은:0.02626570500433445\n",
      "cost값은:0.024908654391765594\n",
      "cost값은:0.023889824748039246\n",
      "cost값은:0.023101622238755226\n",
      "cost값은:0.022481635212898254\n",
      "cost값은:0.021989503875374794\n",
      "cost값은:0.021596862003207207\n",
      "cost값은:0.021282706409692764\n",
      "cost값은:0.02103092335164547\n",
      "cost값은:0.02082892879843712\n",
      "cost값은:0.02066677249968052\n",
      "cost값은:0.02053656056523323\n",
      "cost값은:0.020431963726878166\n",
      "cost값은:0.020347939804196358\n",
      "cost값은:0.02028042823076248\n",
      "cost값은:0.02022617869079113\n",
      "cost값은:0.020182596519589424\n",
      "cost값은:0.020147573202848434\n",
      "cost값은:0.020119432359933853\n",
      "cost값은:0.02009681798517704\n",
      "cost값은:0.020078647881746292\n",
      "cost값은:0.020064042881131172\n",
      "cost값은:0.020052311941981316\n",
      "cost값은:0.02004287764430046\n",
      "cost값은:0.02003530226647854\n",
      "cost값은:0.020029213279485703\n",
      "cost값은:0.020024320110678673\n",
      "cost값은:0.020020388066768646\n",
      "cost값은:0.0200172271579504\n",
      "cost값은:0.02001469023525715\n",
      "cost값은:0.02001264877617359\n",
      "cost값은:0.02001100964844227\n",
      "cost값은:0.020009690895676613\n",
      "cost값은:0.0200086310505867\n",
      "cost값은:0.0200077835470438\n",
      "cost값은:0.020007099956274033\n",
      "cost값은:0.02000654861330986\n",
      "cost값은:0.02000611089169979\n",
      "cost값은:0.020005755126476288\n",
      "cost값은:0.020005466416478157\n",
      "cost값은:0.0200052373111248\n",
      "cost값은:0.020005054771900177\n",
      "cost값은:0.020004907622933388\n",
      "cost값은:0.020004788413643837\n",
      "cost값은:0.020004691556096077\n",
      "cost값은:0.020004617050290108\n",
      "cost값은:0.020004555583000183\n",
      "cost값은:0.020004501566290855\n",
      "cost값은:0.02000446803867817\n",
      "cost값은:0.020004432648420334\n",
      "cost값은:0.020004406571388245\n",
      "cost값은:0.020004387944936752\n",
      "cost값은:0.02000437118113041\n",
      "cost값은:0.020004352554678917\n",
      "cost값은:0.02000434510409832\n",
      "cost값은:0.020004335790872574\n",
      "cost값은:0.020004330202937126\n",
      "cost값은:0.02000432461500168\n",
      "cost값은:0.02000431716442108\n",
      "cost값은:0.020004315301775932\n",
      "cost값은:0.020004313439130783\n",
      "cost값은:0.020004311576485634\n",
      "cost값은:0.020004311576485634\n",
      "cost값은:0.020004307851195335\n",
      "cost값은:0.020004305988550186\n",
      "cost값은:0.020004305988550186\n",
      "cost값은:0.020004304125905037\n",
      "cost값은:0.020004304125905037\n",
      "cost값은:0.020004302263259888\n",
      "cost값은:0.020004302263259888\n",
      "cost값은:0.020004304125905037\n",
      "cost값은:0.020004302263259888\n",
      "cost값은:0.02000429853796959\n",
      "cost값은:0.020004302263259888\n",
      "cost값은:0.02000429853796959\n",
      "cost값은:0.020004302263259888\n",
      "cost값은:0.020004302263259888\n",
      "cost값은:0.020004302263259888\n",
      "cost값은:0.020004302263259888\n",
      "cost값은:0.020004302263259888\n",
      "cost값은:0.020004302263259888\n",
      "cost값은:0.02000429853796959\n",
      "cost값은:0.020004304125905037\n",
      "cost값은:0.02000429853796959\n",
      "cost값은:0.020004302263259888\n",
      "cost값은:0.020004302263259888\n",
      "cost값은:0.020004302263259888\n",
      "cost값은:0.020004302263259888\n",
      "cost값은:0.020004302263259888\n",
      "cost값은:0.020004302263259888\n",
      "cost값은:0.020004302263259888\n",
      "cost값은:0.020004302263259888\n",
      "cost값은:0.020004302263259888\n",
      "cost값은:0.020004302263259888\n",
      "cost값은:0.020004302263259888\n",
      "cost값은:0.020004302263259888\n",
      "cost값은:0.020004302263259888\n"
     ]
    }
   ],
   "source": [
    "sess = tf.Session()  # graph를 실행시키기 위해 필요\n",
    "sess.run(tf.global_variables_initializer())\n",
    "\n",
    "for step in range(30000):\n",
    "    _,cost_val = sess.run([train,cost], \n",
    "                          feed_dict={X:x_data,\n",
    "                                     Y:y_data})\n",
    "    if step %3000==0:\n",
    "        print(\"cost값은:{}\".format(cost_val))\n",
    "        "
   ]
  },
  {
   "cell_type": "code",
   "execution_count": 277,
   "metadata": {},
   "outputs": [
    {
     "name": "stdout",
     "output_type": "stream",
     "text": [
      "[[27.973396]]\n"
     ]
    }
   ],
   "source": [
    "#x_val =[[170],[7.4],[67.0]]\n",
    "SolarR_scale = (170-df[\"Solar.R\"].min())/(df[\"Solar.R\"].max()-df[\"Solar.R\"].min())\n",
    "Wind_scale = (7.4-df[\"Wind\"].min())/(df[\"Wind\"].max()-df[\"Wind\"].min())\n",
    "Temp_scale = (67.0-df[\"Temp\"].min())/(df[\"Temp\"].max()-df[\"Temp\"].min())\n",
    "\n",
    "data = [[SolarR_scale],[Wind_scale],[Temp_scale]]\n",
    "X_scale = pd.DataFrame(data).values.reshape(-1,3)\n",
    "\n",
    "result_scale = sess.run(H, feed_dict={X:X_scale})\n",
    "result = result_scale*(df[\"Ozone\"].max()-df[\"Ozone\"].min())+df[\"Ozone\"].min()\n",
    "print(result)\n"
   ]
  },
  {
   "cell_type": "markdown",
   "metadata": {},
   "source": [
    "## sklearn module을 이용하여 학습시키고 예측해보자! \n",
    "\n",
    "### 정답을 알아보자!\n"
   ]
  },
  {
   "cell_type": "code",
   "execution_count": 301,
   "metadata": {},
   "outputs": [],
   "source": [
    "from sklearn import linear_model\n",
    "import numpy as np\n",
    "import pandas as pd\n",
    "\n",
    "df = pd.read_csv(\"./data/ozone.csv\")\n",
    "df = df[[\"Ozone\",\"Solar.R\",\"Wind\",\"Temp\"]]\n",
    "\n",
    "# 결측치 제거\n",
    "# 결측치 제거 시 다른 column에 의해서 너무 많은 행이 제거되는 것을 방지하기 위해 필요한 column만 추출\n",
    "df = pd.DataFrame(df[[\"Solar.R\",\"Wind\",\"Temp\",\"Ozone\"]] )\n",
    "# 결측치 제거 -원본은 유지\n",
    "df = df.dropna(how=\"any\",inplace=False)\n",
    "\n",
    "# ozone 이상치 제거\n",
    "q1,q3 = np.percentile(df[\"Ozone\"],[25,75])\n",
    "iqr = q3-q1\n",
    "upper = q3+iqr*1.5\n",
    "mask = df[\"Ozone\"]>upper\n",
    "df = df.loc[~mask]   # ~: not의 의미\n",
    "\n",
    "# wind 이상치 제거\n",
    "q1,q3 = np.percentile(df[\"Wind\"],[25,75])\n",
    "iqr = q3-q1\n",
    "upper = q3+iqr*1.5\n",
    "mask = df[\"Wind\"]>upper\n",
    "df = df.loc[~mask]   # ~: not의 의미\n"
   ]
  },
  {
   "cell_type": "code",
   "execution_count": 303,
   "metadata": {},
   "outputs": [
    {
     "name": "stdout",
     "output_type": "stream",
     "text": [
      "예측값은:[27.97594664]\n"
     ]
    }
   ],
   "source": [
    "# machine learning - 차원도 안맞춰줘도 됨\n",
    "\n",
    "X = df[[\"Solar.R\",\"Wind\",\"Temp\"]]\n",
    "Y = df[\"Ozone\"]\n",
    "\n",
    "# 선형회귀 할 수 있는 기능 가져오기\n",
    "lm = linear_model.LinearRegression()\n",
    "lm.fit(X,Y)\n",
    "\n",
    "prediction = lm.predict([[170,7.4,67]])\n",
    "print(\"예측값은:{}\".format(prediction))\n"
   ]
  },
  {
   "cell_type": "markdown",
   "metadata": {},
   "source": [
    "### 다중선형회귀 - 정규화 한번에 하기(패키지)\n",
    "\n",
    "\n"
   ]
  },
  {
   "cell_type": "code",
   "execution_count": 311,
   "metadata": {},
   "outputs": [],
   "source": [
    "import tensorflow as tf\n",
    "import numpy as np\n",
    "import pandas as pd\n",
    "import matplotlib.pyplot as plt\n",
    "from sklearn.preprocessing import MinMaxScaler\n",
    "\n",
    "df = pd.read_csv(\"./data/ozone.csv\")\n",
    "df = df.dropna(how=\"any\",inplace=False)\n",
    "\n",
    "# ozone 이상치 제거\n",
    "q1,q3 = np.percentile(df[\"Ozone\"],[25,75])\n",
    "iqr = q3-q1\n",
    "upper = q3+iqr*1.5\n",
    "mask = df[\"Ozone\"]>upper\n",
    "df = df.loc[~mask]   # ~: not의 의미\n",
    "\n",
    "# wind 이상치 제거\n",
    "q1,q3 = np.percentile(df[\"Wind\"],[25,75])\n",
    "iqr = q3-q1\n",
    "upper = q3+iqr*1.5\n",
    "mask = df[\"Wind\"]>upper\n",
    "df = df.loc[~mask]   # ~: not의 의미\n",
    "\n",
    "# machine learning\n",
    "x_data = df[[\"Solar.R\",\"Wind\",\"Temp\"]]\n",
    "x_data = MinMaxScaler().fit_transform(x_data)\n",
    "y_data = df[\"Ozone\"].values.reshape(-1,1)\n",
    "y_data = MinMaxScaler().fit_transform(y_data)\n",
    "\n",
    "\n"
   ]
  },
  {
   "cell_type": "markdown",
   "metadata": {},
   "source": [
    "## 지도학습\n",
    "1. linear regression(선형회귀) -> 기초\n",
    "\n",
    "    - 단순선형회귀(simple linear regression)\n",
    "\n",
    "    - 다중선형회귀(multiple linear regression)\n",
    "    \n",
    "\n",
    "2. logistic regression(binary classification) -> 기반\n",
    "\n",
    "    - Email이 스팸인지 아닌지를 판별\n",
    "    - 내일의 주가가 오를지 떨어질지\n",
    "    - 신용카드 사용 시 도난카드인지 아닌지를 판별\n",
    "    \n",
    "    \n",
    "    - 알고리즘 중 가장 보편화되고 정확한 알고리즘\n",
    "    - y_label이 0 혹은 1 (True of False)\n",
    "    - machine learning의 결과는 확률로 나타난다\n",
    "    - 0~1 사이의 값으로 출력\n",
    "    - 일반적으로 0.5 이상이면 1로 간주, 0.5 미만이면 0으로 간주\n",
    "\n",
    "    - x(시간)    y(결과)\n",
    "    -    1        F(0)    -> 15\n",
    "    -    2        F(0)    -> 20\n",
    "    -    5        F(0)    -> 56\n",
    "    -    1        P(1)    -> 85\n",
    "    -   10        P(1)    -> 93\n",
    "    - linear regression으로 학습한 후 7시간 공부한 결과를 알아보자.\n",
    "    "
   ]
  },
  {
   "cell_type": "code",
   "execution_count": 320,
   "metadata": {},
   "outputs": [
    {
     "name": "stdout",
     "output_type": "stream",
     "text": [
      "cost값은:178.3668212890625\n",
      "cost값은:1.4681745767593384\n",
      "cost값은:0.10519629716873169\n",
      "cost값은:0.09469479322433472\n",
      "cost값은:0.09461390227079391\n",
      "cost값은:0.09461326152086258\n",
      "cost값은:0.09461325407028198\n",
      "cost값은:0.09461326152086258\n",
      "cost값은:0.09461327642202377\n",
      "cost값은:0.09461327642202377\n",
      "[0.39640954]\n"
     ]
    }
   ],
   "source": [
    "import tensorflow as tf\n",
    "x_data = [1,2,5,8,10,20]\n",
    "y_data = [0,0,0,1,1,1]\n",
    "\n",
    "x = tf.placeholder(dtype=tf.float32)\n",
    "y = tf.placeholder(dtype=tf.float32)\n",
    "\n",
    "W = tf.Variable(tf.random_normal([1]),name=\"weight\")\n",
    "b = tf.Variable(tf.random_normal([1]),name=\"bias\")\n",
    "H = W*x+b\n",
    "\n",
    "cost = tf.reduce_mean(tf.square(H-y))\n",
    "\n",
    "optimizer = tf.train.GradientDescentOptimizer(learning_rate=0.01)\n",
    "train=optimizer.minimize(cost)\n",
    "\n",
    "sess = tf.Session()\n",
    "sess.run(tf.global_variables_initializer())\n",
    "\n",
    "for step in range(3000):\n",
    "    _,cost_val = sess.run([train,cost],\n",
    "                         feed_dict={x:x_data,\n",
    "                                   y:y_data})\n",
    "    if step%300==0:\n",
    "        print(\"cost값은:{}\".format(cost_val))\n",
    "\n",
    "        \n",
    "print(sess.run(H,feed_dict={x:6}))"
   ]
  },
  {
   "cell_type": "markdown",
   "metadata": {},
   "source": [
    "- x(시간)    y(결과)\n",
    "-    1        F(0)    \n",
    "-    2        F(0)    \n",
    "-    5        F(0)    \n",
    "-    1        P(1)    \n",
    "-   10        P(1)   \n",
    "-   20        P(1)    \n",
    "\n",
    "20 데이터 하나만 더 들어왔을 뿐인데 \n",
    "6일때의 결과를 보면 매우 달라진다.(합격률 낮아짐)\n"
   ]
  },
  {
   "cell_type": "markdown",
   "metadata": {},
   "source": [
    "# 1227\n",
    "\n",
    "\n",
    "\n"
   ]
  },
  {
   "cell_type": "markdown",
   "metadata": {},
   "source": [
    "### logistic regression(binary classification)\n",
    "\n",
    "- 지도학습에서 데이터의 label이 0 또는 1로 설정\n",
    "- 이런 데이터는 기존의 선형회귀방식으로는 학습하고 prediction하는게 불가능  \n",
    "- 가설을 바꿔야 함!\n",
    "- H = XW + b (다중선형회귀에서 사용한 가설) => 직선 \n",
    "- 직선이 아닌 0에서 1사이의 값을 가지는 함수로 가설을 표현 \n",
    "- sigmoid 함수를 이용해서 표현 (가설을 변경해야 한다.)\n",
    "- 가설이 변경되었기 때문에 해당 가설을 이용한 cost 함수를 그려보면 local minimum(minima)을 찾게 될 여지가 있게 된다. \n",
    "- 따라서 cost함수도 변경해야 한다. \n",
    "- cost = -ylog(H)-(1-y)log(1-H)  => 수학식을 이용해서 cost함수를 사용\n",
    "\n",
    "\n"
   ]
  },
  {
   "cell_type": "code",
   "execution_count": 4,
   "metadata": {},
   "outputs": [
    {
     "data": {
      "text/plain": [
       "<matplotlib.collections.PathCollection at 0x1f164d1c240>"
      ]
     },
     "execution_count": 4,
     "metadata": {},
     "output_type": "execute_result"
    },
    {
     "data": {
      "image/png": "[encoded data removed]",
      "text/plain": [
       "<Figure size 432x288 with 1 Axes>"
      ]
     },
     "metadata": {
      "needs_background": "light"
     },
     "output_type": "display_data"
    }
   ],
   "source": [
    "import matplotlib.pyplot as plt\n",
    "import numpy as np\n",
    "\n",
    "x = np.arange(-10,10,0.1)\n",
    "y = 1/(1+np.exp(-x))\n",
    "plt.scatter(x,y)  # 시그모이드 곡선 \n",
    "\n"
   ]
  },
  {
   "cell_type": "markdown",
   "metadata": {},
   "source": [
    "#### 사용할 데이터\n",
    "- 공부시간 어학연수기간 시험성적\n",
    "-    1         1          0(F)\n",
    "- 2 0 0(F)\n",
    "- 5 1 0(F)\n",
    "- 2 3 1(P)\n",
    "- 3 3 1(P)\n",
    "- 8 1 1(P)\n",
    "- 10 0 1(P)\n",
    "\n"
   ]
  },
  {
   "cell_type": "code",
   "execution_count": 18,
   "metadata": {
    "scrolled": true
   },
   "outputs": [
    {
     "name": "stdout",
     "output_type": "stream",
     "text": [
      "cost값은:1.1680362224578857\n",
      "cost값은:0.2816517651081085\n",
      "cost값은:0.20171275734901428\n",
      "cost값은:0.1649354249238968\n",
      "cost값은:0.1425197869539261\n",
      "cost값은:0.12686678767204285\n",
      "cost값은:0.1150454506278038\n",
      "cost값은:0.10565859824419022\n",
      "cost값은:0.09794296324253082\n",
      "cost값은:0.09143995493650436\n",
      "[[0.71656156]]\n",
      "시험에 통과:[[0.71656156]]\n"
     ]
    }
   ],
   "source": [
    "import tensorflow as tf\n",
    "\n",
    "# training data set \n",
    "x_data = [[1,1],\n",
    "         [2,0],\n",
    "         [5,1],\n",
    "         [2,3],\n",
    "         [3,3],\n",
    "         [8,1],\n",
    "         [10,1]]\n",
    "y_data = [[0],[0],[0],[1],[1],[1],[1]]\n",
    "\n",
    "# placeholder\n",
    "X = tf.placeholder(shape=[None,2],dtype=tf.float32)\n",
    "Y = tf.placeholder(shape=[None,1],dtype=tf.float32)\n",
    "\n",
    "# weight & bias\n",
    "W = tf.Variable(tf.random_normal([2,1]), name=\"weight\")\n",
    "b = tf.Variable(tf.random_normal([1]), name=\"bias\")\n",
    "\n",
    "# hypothesis (변경되어야 함)\n",
    "# H = tf.matmul(X,W)+b : 선형회귀\n",
    "logit = tf.matmul(X,W)+b\n",
    "H = tf.sigmoid(logit)   # 1 / (1+e^(-x))  : sigmoid를 이용해서 곡선으로 표현\n",
    "\n",
    "# cost function(일반적으로 tf에서 제공하는 함수를 이용)\n",
    "cost = tf.reduce_mean(tf.nn.sigmoid_cross_entropy_with_logits(logits=logit, \n",
    "                                                              labels = Y))  # logistic의 cost만들어주는 함수 (tensorflow에서 제공해주는)\n",
    "# train\n",
    "optimizer = tf.train.GradientDescentOptimizer(learning_rate=0.1)\n",
    "train=optimizer.minimize(cost)\n",
    "\n",
    "# session, 초기화\n",
    "sess = tf.Session()\n",
    "sess.run(tf.global_variables_initializer())  # global_Variable 초기화\n",
    "\n",
    "# 학습\n",
    "for step in range(3000):\n",
    "    _, cost_val = sess.run([train,cost],feed_dict = {X: x_data,\n",
    "                                                     Y: y_data})\n",
    "    if step%300==0:\n",
    "        print(\"cost값은:{}\".format(cost_val))\n",
    "\n",
    "# predict\n",
    "result = sess.run(H, feed_dict={X:[[7,1]]})\n",
    "print(result)  # 시험에 통과\n",
    "if result >0.5:\n",
    "    print(\"시험에 통과:{}\".format(result))\n",
    "else:\n",
    "    print(\"시험에 떨어짐:{}\".format(result))"
   ]
  },
  {
   "cell_type": "markdown",
   "metadata": {},
   "source": [
    "## 예제- 대학원 입학시험 예측\n",
    "-  데이터는 admission.csv이용 \n",
    "- logistic regression을 수행한 후 prediction을 진행\n",
    "- 정확도 측정(accuracy) => 응용을 위해서는 98% 이상"
   ]
  },
  {
   "cell_type": "code",
   "execution_count": 28,
   "metadata": {
    "collapsed": true
   },
   "outputs": [
    {
     "data": {
      "text/html": [
       "<div>\n",
       "<style scoped>\n",
       "    .dataframe tbody tr th:only-of-type {\n",
       "        vertical-align: middle;\n",
       "    }\n",
       "\n",
       "    .dataframe tbody tr th {\n",
       "        vertical-align: top;\n",
       "    }\n",
       "\n",
       "    .dataframe thead th {\n",
       "        text-align: right;\n",
       "    }\n",
       "</style>\n",
       "<table border=\"1\" class=\"dataframe\">\n",
       "  <thead>\n",
       "    <tr style=\"text-align: right;\">\n",
       "      <th></th>\n",
       "      <th>admit</th>\n",
       "      <th>gre</th>\n",
       "      <th>gpa</th>\n",
       "      <th>rank</th>\n",
       "    </tr>\n",
       "  </thead>\n",
       "  <tbody>\n",
       "    <tr>\n",
       "      <th>0</th>\n",
       "      <td>0</td>\n",
       "      <td>380</td>\n",
       "      <td>3.61</td>\n",
       "      <td>3</td>\n",
       "    </tr>\n",
       "    <tr>\n",
       "      <th>1</th>\n",
       "      <td>1</td>\n",
       "      <td>660</td>\n",
       "      <td>3.67</td>\n",
       "      <td>3</td>\n",
       "    </tr>\n",
       "    <tr>\n",
       "      <th>2</th>\n",
       "      <td>1</td>\n",
       "      <td>800</td>\n",
       "      <td>4.00</td>\n",
       "      <td>1</td>\n",
       "    </tr>\n",
       "    <tr>\n",
       "      <th>3</th>\n",
       "      <td>1</td>\n",
       "      <td>640</td>\n",
       "      <td>3.19</td>\n",
       "      <td>4</td>\n",
       "    </tr>\n",
       "    <tr>\n",
       "      <th>4</th>\n",
       "      <td>0</td>\n",
       "      <td>520</td>\n",
       "      <td>2.93</td>\n",
       "      <td>4</td>\n",
       "    </tr>\n",
       "    <tr>\n",
       "      <th>...</th>\n",
       "      <td>...</td>\n",
       "      <td>...</td>\n",
       "      <td>...</td>\n",
       "      <td>...</td>\n",
       "    </tr>\n",
       "    <tr>\n",
       "      <th>395</th>\n",
       "      <td>0</td>\n",
       "      <td>620</td>\n",
       "      <td>4.00</td>\n",
       "      <td>2</td>\n",
       "    </tr>\n",
       "    <tr>\n",
       "      <th>396</th>\n",
       "      <td>0</td>\n",
       "      <td>560</td>\n",
       "      <td>3.04</td>\n",
       "      <td>3</td>\n",
       "    </tr>\n",
       "    <tr>\n",
       "      <th>397</th>\n",
       "      <td>0</td>\n",
       "      <td>460</td>\n",
       "      <td>2.63</td>\n",
       "      <td>2</td>\n",
       "    </tr>\n",
       "    <tr>\n",
       "      <th>398</th>\n",
       "      <td>0</td>\n",
       "      <td>700</td>\n",
       "      <td>3.65</td>\n",
       "      <td>2</td>\n",
       "    </tr>\n",
       "    <tr>\n",
       "      <th>399</th>\n",
       "      <td>0</td>\n",
       "      <td>600</td>\n",
       "      <td>3.89</td>\n",
       "      <td>3</td>\n",
       "    </tr>\n",
       "  </tbody>\n",
       "</table>\n",
       "<p>400 rows × 4 columns</p>\n",
       "</div>"
      ],
      "text/plain": [
       "     admit  gre   gpa  rank\n",
       "0        0  380  3.61     3\n",
       "1        1  660  3.67     3\n",
       "2        1  800  4.00     1\n",
       "3        1  640  3.19     4\n",
       "4        0  520  2.93     4\n",
       "..     ...  ...   ...   ...\n",
       "395      0  620  4.00     2\n",
       "396      0  560  3.04     3\n",
       "397      0  460  2.63     2\n",
       "398      0  700  3.65     2\n",
       "399      0  600  3.89     3\n",
       "\n",
       "[400 rows x 4 columns]"
      ]
     },
     "metadata": {},
     "output_type": "display_data"
    },
    {
     "name": "stdout",
     "output_type": "stream",
     "text": [
      "이상치를 제거한 후 남은 데이터:(395, 4)\n"
     ]
    }
   ],
   "source": [
    "## 1. 데이터 읽어들이기 \n",
    "df= pd.read_csv(\"./data/admission.csv\")\n",
    "display(df)\n",
    "\n",
    "## 2. 결측치 제거\n",
    "# 결측치 제거 -원본은 유지\n",
    "df = df.dropna(how=\"any\",inplace=False)\n",
    "\n",
    "## 3. 이상치 제거\n",
    "#plt.boxplot(df[\"gre\"])   # 하한값 2개 \n",
    "#plt.boxplot(df[\"gpa\"])   # 하한값 1개\n",
    "# plt.boxplot(df[\"rank\"])   # 없음\n",
    "\n",
    "q1,q3 = np.percentile(df[\"gre\"],[25,75])\n",
    "iqr = q3-q1\n",
    "lower = q1-iqr*1.5\n",
    "mask = df[\"gre\"]<lower\n",
    "df = df.loc[~mask]  \n",
    "\n",
    "q1,q3 = np.percentile(df[\"gpa\"],[25,75])\n",
    "iqr = q3-q1\n",
    "lower = q1-iqr*1.5\n",
    "mask = df[\"gpa\"]<lower\n",
    "df = df.loc[~mask]  \n",
    "\n",
    "print(\"이상치를 제거한 후 남은 데이터:{}\".format(df.shape)) # (395, 4)\n"
   ]
  },
  {
   "cell_type": "code",
   "execution_count": 68,
   "metadata": {
    "scrolled": true
   },
   "outputs": [
    {
     "name": "stdout",
     "output_type": "stream",
     "text": [
      "cost값은:0.6669329404830933\n",
      "cost값은:0.5760520696640015\n",
      "cost값은:0.576052188873291\n",
      "[[0.18406785]]\n"
     ]
    }
   ],
   "source": [
    "## placeholder\n",
    "df[\"gre_Norm\"] = (df[\"gre\"]-df[\"gre\"].min())/(df[\"gre\"].max()-df[\"gre\"].min())\n",
    "df[\"gpa_Norm\"] = (df[\"gpa\"]-df[\"gpa\"].min())/(df[\"gpa\"].max()-df[\"gpa\"].min())\n",
    "df[\"rank_Norm\"] = (df[\"rank\"]-df[\"rank\"].min())/(df[\"rank\"].max()-df[\"rank\"].min())\n",
    "\n",
    "x_data = df[[\"gre_Norm\",\"gpa_Norm\",\"rank_Norm\"]].values\n",
    "y_data = df[\"admit\"].values.reshape(-1,1)   # 행은 모르므로 1열 고정하고 나머지는 다 행으로 해라.\n",
    "\n",
    "X = tf.placeholder(shape=[None,3], dtype=tf.float32)  \n",
    "Y = tf.placeholder(shape=[None,1], dtype=tf.float32)  \n",
    "\n",
    "# weight & bias\n",
    "W = tf.Variable(tf.random_normal([3,1]),name=\"weight\")\n",
    "b = tf.Variable(tf.random_normal([1]),name=\"bias\")\n",
    "\n",
    "# hypothesis \n",
    "# H = tf.matmul(X,W)+b : 선형회귀\n",
    "logit = tf.matmul(X,W)+b\n",
    "H = tf.sigmoid(logit)  \n",
    "\n",
    "# cost function(일반적으로 tf에서 제공하는 함수를 이용)\n",
    "cost = tf.reduce_mean(tf.nn.sigmoid_cross_entropy_with_logits(logits=logit, \n",
    "                                                              labels = Y))  # logistic의 cost만들어주는 함수 (tensorflow에서 제공해주는)\n",
    "\n",
    "# train\n",
    "optimizer = tf.train.GradientDescentOptimizer(learning_rate=0.1)\n",
    "train=optimizer.minimize(cost)\n",
    "\n",
    "# session, 초기화\n",
    "sess = tf.Session()\n",
    "sess.run(tf.global_variables_initializer())  # global_Variable 초기화\n",
    "\n",
    "# 학습\n",
    "for step in range(30000):\n",
    "    _, cost_val = sess.run([train,cost],feed_dict = {X: x_data,\n",
    "                                                     Y: y_data})\n",
    "    if step%10000==0:\n",
    "        print(\"cost값은:{}\".format(cost_val))\n",
    "\n",
    "# predict\n",
    "#result = sess.run(H, feed_dict={X:[[380,3.61,3]]})\n",
    "#print(result) \n",
    "\n",
    "gre_scale = (380-df[\"gre\"].min())/(df[\"gre\"].max()-df[\"gre\"].min())\n",
    "gpa_scale = (3.61-df[\"gpa\"].min())/(df[\"gpa\"].max()-df[\"gpa\"].min())\n",
    "rank_scale = (3-df[\"rank\"].min())/(df[\"rank\"].max()-df[\"rank\"].min())\n",
    "\n",
    "data = [[gre_scale],[gpa_scale],[rank_scale]]\n",
    "X_scale = pd.DataFrame(data).values.reshape(-1,3)\n",
    "\n",
    "result = sess.run(H, feed_dict={X:X_scale})\n",
    "print(result) \n",
    "\n",
    "\n"
   ]
  },
  {
   "cell_type": "markdown",
   "metadata": {},
   "source": [
    "## sklearn module을 이용하여 정답을 알아보자!\n"
   ]
  },
  {
   "cell_type": "code",
   "execution_count": 71,
   "metadata": {},
   "outputs": [
    {
     "name": "stdout",
     "output_type": "stream",
     "text": [
      "예측값은:[[0.81979963 0.18020037]]\n"
     ]
    }
   ],
   "source": [
    "from sklearn import linear_model\n",
    "\n",
    "# machine learning - 차원도 안맞춰줘도 됨\n",
    "X = df[[\"gre\",\"gpa\",\"rank\"]]\n",
    "Y = df[\"admit\"]\n",
    "\n",
    "# 로지스틱 회귀 할 수 있는 기능 가져오기\n",
    "log = linear_model.LogisticRegression()\n",
    "log.fit(X,Y)\n",
    "#log.predict_proba\n",
    "#prediction = log.predict([[380,3.61,3]])\n",
    "prediction = log.predict_proba([[380,3.61,3]])\n",
    "print(\"예측값은:{}\".format(prediction))\n"
   ]
  },
  {
   "cell_type": "markdown",
   "metadata": {},
   "source": [
    "## 대학원 예제 선생님 풀이"
   ]
  },
  {
   "cell_type": "code",
   "execution_count": 82,
   "metadata": {},
   "outputs": [
    {
     "name": "stdout",
     "output_type": "stream",
     "text": [
      "cost값은:0.6792475581169128\n",
      "cost값은:0.576546847820282\n",
      "cost값은:0.5760599970817566\n",
      "cost값은:0.5760522484779358\n",
      "cost값은:0.5760520696640015\n",
      "cost값은:0.5760520696640015\n",
      "cost값은:0.5760520696640015\n",
      "cost값은:0.5760520696640015\n",
      "cost값은:0.5760520696640015\n",
      "cost값은:0.5760520696640015\n",
      "정확도:0.703797459602356\n"
     ]
    }
   ],
   "source": [
    "import tensorflow as tf\n",
    "import numpy as np\n",
    "import pandas as pd\n",
    "import matplotlib.pyplot as plt\n",
    "from sklearn.preprocessing import MinMaxScaler\n",
    "from sklearn.linear_model import LogisticRegression\n",
    "\n",
    "def change_rank(k):\n",
    "    if k==4:\n",
    "        return 1\n",
    "    elif k==3:\n",
    "        return 2\n",
    "    elif k==2:\n",
    "        return 3\n",
    "    elif k==1:\n",
    "        return 4\n",
    "    \n",
    "def process_outlier(tmp_df,tmp):\n",
    "    q1,q3 = np.percentile(tmp,[25,75])\n",
    "    iqr = q3-q1\n",
    "    upper = q3+iqr*1.5\n",
    "    lower = q1-iqr*1.5\n",
    "    upper_mask = tmp > upper\n",
    "    lower_mask = tmp < lower\n",
    "    result_mask = upper_mask | lower_mask\n",
    "    return tmp_df[~result_mask]\n",
    "\n",
    "## 1. data loading & 전처리 \n",
    "df= pd.read_csv(\"./data/admission.csv\")\n",
    "#display(df.head())\n",
    "\n",
    "# 상관계수 구해보기 - gre,gpa는 높을수록 admit 잘되고 rank는 낮을수록 admit 잘됨\n",
    "df.corr()\n",
    "# rank값을 역순으로 조절해줘야 함 - rank만 역방향이므로 \n",
    "# 1->4,2->3,3->2,4->1\n",
    "df[\"rank\"] = df[\"rank\"].apply(lambda x: change_rank(x))   # lambda 쓰면 값 하나하나씩 가져옴, change_rank: 호출할 함수\n",
    "#display(df.head())\n",
    "\n",
    "# 결측치 처리 (결측치는 존재하지 않음)\n",
    "df.isnull().sum()   \n",
    "\n",
    "# 이상치 처리\n",
    "df = process_outlier(df,df[\"gre\"])\n",
    "df = process_outlier(df,df[\"gpa\"])\n",
    "\n",
    "## machine learning\n",
    "x_data = df[[\"gre\",\"gpa\",\"rank\"]].values    # numpy array\n",
    "x_data = MinMaxScaler().fit_transform(x_data)\n",
    "y_data = df[\"admit\"].values.reshape(-1,1)\n",
    "\n",
    "# placeholder\n",
    "X = tf.placeholder(shape=[None,3],dtype=tf.float32)\n",
    "Y = tf.placeholder(shape=[None,1],dtype=tf.float32)\n",
    "\n",
    "# weight & bias\n",
    "W = tf.Variable(tf.random_normal([3,1]),name=\"weight\")\n",
    "b = tf.Variable(tf.random_normal([1]),name=\"bias\")\n",
    "\n",
    "# hypothesis\n",
    "logit = tf.matmul(X,W)+b\n",
    "H = tf.sigmoid(logit)\n",
    "\n",
    "# cost\n",
    "cost = tf.reduce_mean(tf.nn.sigmoid_cross_entropy_with_logits(logits=logit,\n",
    "                                                             labels= Y))\n",
    "# train\n",
    "optimizer = tf.train.GradientDescentOptimizer(learning_rate=0.1)\n",
    "train = optimizer.minimize(cost)\n",
    "\n",
    "# session & 초기화\n",
    "sess = tf.Session()\n",
    "sess.run(tf.global_variables_initializer())\n",
    "\n",
    "## 학습\n",
    "for step in range(30000):\n",
    "    _,cost_val = sess.run([train,cost], feed_dict={X:x_data,\n",
    "                                                  Y:y_data})\n",
    "    if step%3000==0:\n",
    "        print(\"cost값은:{}\".format(cost_val))\n",
    "        \n",
    "# 학습이 종료됨!\n",
    "\n",
    "\n",
    "## 정확도를 측정해보자! (accuracy)\n",
    "# test data set이 없음..\n",
    "# train data set을 test data set으로 사용\n",
    "\n",
    "# predict한 결과를 알아보자! \n",
    "# 특정한 x값을 -> training data set을 이용\n",
    "# 특정한 x입력에 대해서 1과 0으로 만들어진 예측값\n",
    "predict = tf.cast(H>0.5,dtype=tf.float32)  \n",
    "correct = tf.equal(predict,Y)   # 예측결과 - 원본 데이터 같으면 학습 아주 잘 되었다.\n",
    "                                # 결과는 지금 T,F 형태로 나올 것 -> 0,1 형태로 바꾸기\n",
    "accuracy = tf.reduce_mean( tf.cast(correct,dtype=tf.float32) )\n",
    "\n",
    "print(\"정확도:{}\".format(sess.run(accuracy,feed_dict={X:x_data,\n",
    "                                                  Y:y_data})))\n",
    "\n",
    "# 모델의 정확도가 70% 이면 사용할 수 없는 모델\n",
    "\n"
   ]
  },
  {
   "cell_type": "code",
   "execution_count": null,
   "metadata": {},
   "outputs": [],
   "source": [
    "# training data set의 70%를 학습에 이용\n",
    "# training data set의 30%를 평가에 이용\n",
    "# prediction (예측)"
   ]
  },
  {
   "cell_type": "code",
   "execution_count": null,
   "metadata": {},
   "outputs": [],
   "source": [
    "test = pd.read_csv(\"./data/test.csv\")\n",
    "train = pd.read_csv(\"./data/train.csv\")\n",
    "\n",
    "\n",
    "\n",
    "\n"
   ]
  },
  {
   "cell_type": "code",
   "execution_count": null,
   "metadata": {},
   "outputs": [],
   "source": [
    "\n",
    "\n",
    "\n",
    "\n",
    "\n",
    "\n"
   ]
  },
  {
   "cell_type": "code",
   "execution_count": null,
   "metadata": {},
   "outputs": [],
   "source": [
    "\n",
    "\n",
    "\n",
    "\n",
    "\n",
    "\n",
    "\n"
   ]
  },
  {
   "cell_type": "code",
   "execution_count": null,
   "metadata": {},
   "outputs": [],
   "source": [
    "\n",
    "\n",
    "\n",
    "\n",
    "\n",
    "\n",
    "\n",
    "\n",
    "\n"
   ]
  }
 ],
 "metadata": {
  "kernelspec": {
   "display_name": "[CPU_ENV]",
   "language": "python",
   "name": "cpu_env"
  },
  "language_info": {
   "codemirror_mode": {
    "name": "ipython",
    "version": 3
   },
   "file_extension": ".py",
   "mimetype": "text/x-python",
   "name": "python",
   "nbconvert_exporter": "python",
   "pygments_lexer": "ipython3",
   "version": "3.6.9"
  }
 },
 "nbformat": 4,
 "nbformat_minor": 2
}
