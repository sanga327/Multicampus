{
 "cells": [
  {
   "cell_type": "markdown",
   "metadata": {},
   "source": [
    "## 1. Logistic Regression의 의미\n",
    "   binary classiication\n",
    "    \n",
    "## 2. Multinomial \n"
   ]
  },
  {
   "cell_type": "code",
   "execution_count": 30,
   "metadata": {},
   "outputs": [
    {
     "name": "stdout",
     "output_type": "stream",
     "text": [
      "cost값은:3.4184141159057617\n",
      "cost값은:0.3024589717388153\n",
      "cost값은:0.25968268513679504\n",
      "cost값은:0.24960170686244965\n",
      "cost값은:0.2458796203136444\n",
      "cost값은:0.2441100925207138\n",
      "cost값은:0.24307036399841309\n",
      "cost값은:0.24233460426330566\n",
      "cost값은:0.2417345941066742\n",
      "cost값은:0.24119840562343597\n",
      "[1]\n"
     ]
    },
    {
     "data": {
      "image/png": "[encoded data removed]",
      "text/plain": [
       "<Figure size 432x288 with 1 Axes>"
      ]
     },
     "metadata": {},
     "output_type": "display_data"
    }
   ],
   "source": [
    "# Logistic Regression을 그림으로 알아보자! \n",
    "\n",
    "import pandas as pd\n",
    "import numpy as np\n",
    "import matplotlib.pyplot as plt\n",
    "import tensorflow as tf\n",
    "import warnings\n",
    "from sklearn.linear_model import LogisticRegression\n",
    "import mglearn \n",
    "\n",
    "warnings.filterwarnings(action=\"ignore\")  # warning 무시\n",
    "\n",
    "x,y = mglearn.datasets.make_forge()  #가지고있는 데이터 뽑아다가 우리에게 넘겨줌\n",
    "x  # 실수값 들어있는 2차원 배열\n",
    "y  # 0,1\n",
    "\n",
    "# 먼저 간단하게 scatter(산점도)를 그려보자! \n",
    "# y값이 0인 x를 추출해서 x의 첫번째 컬럼을 x축으로, \n",
    "# x의 두번째 컬럼을 y축으로 scatter 그려보자. \n",
    "blue = x[y==0]\n",
    "orange = x[y==1]\n",
    "\n",
    "plt.scatter(blue[:,0],blue[:,1])  # blue[:,0]: 모든 행, 1열\n",
    "plt.scatter(orange[:,0],orange[:,1])\n",
    "\n",
    "# machine learning(Logistic Regression)\n",
    "# train data set  (test는 넘어가자)\n",
    "train_x_data = x\n",
    "train_y_data = y # y축 지금 1차원 배열\n",
    "train_y_data = y.reshape([-1,1])  # 행은 상관없이 열은 1로 고정하자\n",
    "\n",
    "# placeholder\n",
    "X = tf.placeholder(shape=[None,2],dtype=tf.float32)\n",
    "Y = tf.placeholder(shape=[None,1],dtype=tf.float32)\n",
    "\n",
    "# weight, bias\n",
    "W = tf.Variable(tf.random_normal(shape=[2,1])) #자체적으로 값을 변경시킬 수 있는 함수 variable 이용  # 초기값은 랜덤으로 지정\n",
    "b = tf.Variable(tf.random_normal(shape=[1])) \n",
    "\n",
    "# hypothesis\n",
    "logit = tf.matmul(X,W)+b  \n",
    "H = tf.sigmoid(logit)\n",
    "\n",
    "# cost function(loss function)\n",
    "cost = tf.reduce_mean(tf.nn.sigmoid_cross_entropy_with_logits(logits=logit,\n",
    "                                                             labels=Y))\n",
    "\n",
    "# train\n",
    "# optimizer = tf.train.GradientDescentOptimizer(learning_rate=0.01)\n",
    "# train = optimizer.minimize(cost)  -> 두번할필요없이 아래처럼 축약해서 사용하자\n",
    "train = tf.train.GradientDescentOptimizer(learning_rate=0.01).minimize(cost)\n",
    "\n",
    "# session, 초기화\n",
    "sess = tf.Session()\n",
    "sess.run(tf.global_variables_initializer())\n",
    "\n",
    "# 학습 진행\n",
    "for step in range(3000):\n",
    "    _,cost_val = sess.run([train,cost], feed_dict={X:train_x_data,\n",
    "                                                 Y:train_y_data})\n",
    "    if step%300==0:\n",
    "        print(\"cost값은:{}\".format(cost_val))\n",
    "\n",
    "# 정확도 측정(accuracy): 95% 이상 나오면 쓸만한 모델\n",
    "# Prediction(예측)\n",
    "result = sess.run(H, feed_dict={X:[[9,4]]})\n",
    "plt.scatter(9,4)\n",
    "\n",
    "\n",
    "\n",
    "## sklearn으로 해보자!\n",
    "model = LogisticRegression()  # 기본 모델 만들기\n",
    "myModel = model.fit(x,y)  # logistic model 학습시키기\n",
    "print(myModel.predict([[9,4]])) \n",
    "mglearn.plots.plot_2d_separator(myModel,\n",
    "                                x,\n",
    "                                fill=False,\n",
    "                                eps=0.5, # eps: 크기\n",
    "                                alpha=0.7)  # alpha: 투명도\n",
    "# 이 선의 아래에 있으면 0으로, 위에 있으면 1로 간주하겠다. \n",
    "# 로지스틱은 이 선을 만들어내는 과정.\n",
    "# linear는 데이터를 잘 설명하는 선 그리는 과정(데이터를 대표하는). \n",
    "# logistic은 0과 1을 구분하는 선을 구하는 과정\n",
    "# 3차원일 경우는? 선이 아니라 면이 될 것 \n",
    "\n",
    "# 주황색 하나, 파랑 하나가 다르게 되어있으나\n",
    "# 저걸 제대로 하려면 과적합의 문제가 발생한다. "
   ]
  },
  {
   "cell_type": "code",
   "execution_count": 35,
   "metadata": {},
   "outputs": [
    {
     "data": {
      "text/plain": [
       "<matplotlib.collections.PathCollection at 0x1efa20af4a8>"
      ]
     },
     "execution_count": 35,
     "metadata": {},
     "output_type": "execute_result"
    },
    {
     "data": {
      "image/png": "[encoded data removed]",
      "text/plain": [
       "<Figure size 432x288 with 1 Axes>"
      ]
     },
     "metadata": {
      "needs_background": "light"
     },
     "output_type": "display_data"
    }
   ],
   "source": [
    "# Logistic Multinomial로 확장해보자!\n",
    "# x 데이터는 시험 성적과 출석점수\n",
    "# y 데이터는 학점\n",
    "x = np.array([[10,5],[9,5],[5,1],[4,2],[1,3]])\n",
    "y = np.array([[\"A\"],[\"A\"],[\"B\"],[\"B\"],[\"C\"]])\n",
    "\n",
    "plt.scatter(x[0:2,0],x[0:2,1])  # A등급 점찍어보자\n",
    "plt.scatter(x[2:3,0],x[2:3,1]) # B등급 점찍어보자\n",
    "plt.scatter(x[4,0],x[4,1])  # C등급 점찍어보자\n"
   ]
  },
  {
   "cell_type": "code",
   "execution_count": 41,
   "metadata": {
    "scrolled": true
   },
   "outputs": [
    {
     "name": "stdout",
     "output_type": "stream",
     "text": [
      "cost값은:18.458879470825195\n",
      "cost값은:1.0329055786132812\n",
      "cost값은:0.6862775683403015\n",
      "cost값은:0.5587778091430664\n",
      "cost값은:0.5118946433067322\n",
      "cost값은:0.46800968050956726\n",
      "cost값은:0.0542457178235054\n",
      "cost값은:0.049010004848241806\n",
      "cost값은:0.04514489695429802\n",
      "cost값은:0.042027201503515244\n",
      "정확도:1.0\n"
     ]
    }
   ],
   "source": [
    "import tensorflow as tf\n",
    "\n",
    "# 0108 예제3\n",
    "# train data set\n",
    "# 퀴즈1, 퀴즈2, 퀴즈3, 출석\n",
    "train_x_data = [[10,7,8,5],\n",
    "               [8,8,9,4],\n",
    "               [7,8,2,3],\n",
    "               [6,3,9,3],\n",
    "               [7,5,7,4],\n",
    "               [3,5,6,2],\n",
    "               [2,4,3,1]]\n",
    "\n",
    "# 성적 - one hot encoding\n",
    "train_y_data = [[1,0,0],  # A를 표현한 것\n",
    "               [1,0,0],\n",
    "               [0,1,0],\n",
    "               [0,1,0],\n",
    "               [0,1,0],\n",
    "               [0,0,1],\n",
    "               [0,0,1]]\n",
    "# placeholder\n",
    "X = tf.placeholder(shape=[None,4], dtype=tf.float32)\n",
    "Y = tf.placeholder(shape=[None,3], dtype=tf.float32)\n",
    "\n",
    "# W, b\n",
    "W = tf.Variable(tf.random_normal([4,3]),name=\"weight\")\n",
    "b = tf.Variable(tf.random_normal([3]),name=\"bias\")  # 1차원으로 3개\n",
    "\n",
    "# H\n",
    "logit = tf.matmul(X,W)+b \n",
    "H = tf.nn.softmax(logit) # 우리는 각각의 확률이 아니라 전체의 확률 구해야 하므로 sigmoid 사용 X\n",
    "\n",
    "# cost function - hypothesis가 변경되었으므로 cost함수도 변경될 수 밖에 없음\n",
    "cost = tf.reduce_mean(tf.nn.softmax_cross_entropy_with_logits_v2(logits=logit,   # version2로 해야 정확\n",
    "                                                                labels=Y))\n",
    "\n",
    "# train\n",
    "train = tf.train.GradientDescentOptimizer(learning_rate=0.1).minimize(cost)\n",
    "\n",
    "# session, 초기화\n",
    "sess = tf.Session()\n",
    "sess.run(tf.global_variables_initializer())\n",
    "\n",
    "# 학습\n",
    "for step in range(3000):\n",
    "    _, cost_val = sess.run([train,cost],feed_dict={X : train_x_data,\n",
    "                                                 Y : train_y_data})\n",
    "    if step%300==0:\n",
    "        print(\"cost값은:{}\".format(cost_val))\n",
    "        \n",
    "# Accuracy(정확도)\n",
    "sess.run(H,feed_dict={X:[[10,8,9,5]]})\n",
    "# array([[9.9101710e-01, 8.9828558e-03, 2.5414952e-08]], dtype=float32)\n",
    "# -> A될 확률 0.99, B될확률:.. -> 다 더하면 1\n",
    "# 결과로 나온 값이 y label(0,1,0 등)과 같은가 비교하면 됨.\n",
    "\n",
    "predict = tf.argmax(H,axis=1)  # argmax: 데이터가 있을 때 열방향(한 행에서의) 최대값이 몇번째에 있는지\n",
    "# 가장 값이 큰 곳의 index번호를 return (0,1,2중 하나 return)\n",
    "correct = tf.equal(predict, tf.argmax(Y,axis=1))\n",
    "accuracy = tf.reduce_mean(tf.cast(correct, dtype=tf.float32))\n",
    "print(\"정확도:{}\".format(sess.run(accuracy, feed_dict={X:train_x_data,\n",
    "                                                   Y:train_y_data})))\n"
   ]
  },
  {
   "cell_type": "markdown",
   "metadata": {},
   "source": [
    "# 실습문제 \n",
    "\n",
    "## BMI 데이터를 학습한 후 자신의 키와 몸무게를 넣어서 자신의 상태를 확인해보자.\n",
    "\n",
    "- bmi.csv 파일을 이용하여 multinomial 문제를 학습해보자!\n",
    "\n",
    "- label 0: thin\n",
    "- label 1: normal\n",
    "- label 2: fat"
   ]
  },
  {
   "cell_type": "code",
   "execution_count": 89,
   "metadata": {
    "scrolled": true
   },
   "outputs": [
    {
     "name": "stdout",
     "output_type": "stream",
     "text": [
      "cost값은:1.2413320541381836\n",
      "cost값은:0.5131834745407104\n",
      "cost값은:0.4122363328933716\n",
      "cost값은:0.3603246808052063\n",
      "cost값은:0.32659435272216797\n",
      "cost값은:0.30220213532447815\n",
      "cost값은:0.2834118604660034\n",
      "cost값은:0.26831701397895813\n",
      "cost값은:0.2558182179927826\n",
      "cost값은:0.24523313343524933\n",
      "정확도:0.3165000081062317\n"
     ]
    }
   ],
   "source": [
    "import tensorflow as tf\n",
    "import numpy as np\n",
    "import pandas as pd\n",
    "import matplotlib.pyplot as plt   # 이상치 확인하기 위한 함수\n",
    "import warnings  # 경고 안보이게\n",
    "from sklearn.preprocessing import MinMaxScaler\n",
    "\n",
    "# 경고메시지 출력 X\n",
    "warnings.filterwarnings(action=\"ignore\")\n",
    "\n",
    "# 데이터 불러오기\n",
    "bmi_df = pd.read_csv(\"./data/bmi.csv\", skiprows=3) # 앞의 3줄은 빼고 가져오겠다\n",
    "\n",
    "# # 결측치 확인\n",
    "# bmi_df.isnull().sum()  # 결측치 없음 \n",
    "# # 이상치 확인\n",
    "# plt.boxplot(bmi_df[\"height\"]) # 이상치 없음 \n",
    "# plt.boxplot(bmi_df[\"weight\"]) # 이상치 없음 \n",
    "\n",
    "\n",
    "##################################################################################################\n",
    "\n",
    "# train data와 test data 생성 - 80:20\n",
    "train_num = int(bmi_df.shape[0]*0.8) \n",
    "\n",
    "train_x_data = bmi_df[[\"height\",\"weight\"]][:train_num].values\n",
    "train_x_data = MinMaxScaler().fit_transform(train_x_data)\n",
    "test_x_data = bmi_df[[\"height\",\"weight\"]][train_num:].values \n",
    "test_x_data = MinMaxScaler().fit_transform(test_x_data)\n",
    "\n",
    "train_y_data = bmi_df[\"label\"][:train_num].values.reshape(-1,1)\n",
    "test_y_data = bmi_df[\"label\"][train_num:].values.reshape(-1,1)\n",
    "\n",
    "# placeholder\n",
    "X = tf.placeholder(shape=[None,2],dtype=tf.float32)\n",
    "Y = tf.placeholder(shape=[None,1],dtype=tf.int32)\n",
    "\n",
    "class_num = 3\n",
    "Y_one_hot = tf.one_hot(Y,class_num)\n",
    "Y_one_hot = tf.reshape(Y_one_hot, [-1,class_num])\n",
    "\n",
    "# W, b\n",
    "W = tf.Variable(tf.random_normal([2,3]),name=\"weight\")\n",
    "b = tf.Variable(tf.random_normal([3]),name=\"bias\")  # 1차원으로 3개\n",
    "\n",
    "# H\n",
    "logit = tf.matmul(X,W)+b \n",
    "H = tf.nn.softmax(logit) \n",
    "\n",
    "# cost function\n",
    "cost_i = tf.nn.softmax_cross_entropy_with_logits_v2(logits=logit,   # version2로 해야 정확\n",
    "                                                    labels=Y_one_hot)\n",
    "cost = tf.reduce_mean(cost_i)\n",
    "\n",
    "\n",
    "# train\n",
    "train = tf.train.GradientDescentOptimizer(learning_rate=0.1).minimize(cost)\n",
    "\n",
    "# session, 초기화\n",
    "sess = tf.Session()\n",
    "sess.run(tf.global_variables_initializer())\n",
    "\n",
    "# 학습\n",
    "for step in range(10000):\n",
    "    _, cost_val = sess.run([train,cost],feed_dict={X : train_x_data,\n",
    "                                                 Y : train_y_data})\n",
    "    if step%1000==0:\n",
    "        print(\"cost값은:{}\".format(cost_val))\n",
    "        \n",
    "        \n",
    "predict = tf.argmax(H,axis=1)  # argmax: 데이터가 있을 때 열방향(한 행에서의) 최대값이 몇번째에 있는지\n",
    "# 가장 값이 큰 곳의 index번호를 return (0,1,2중 하나 return)\n",
    "\n",
    "correct = tf.equal(predict, tf.argmax(Y,axis=1))\n",
    "accuracy = tf.reduce_mean(tf.cast(correct, dtype=tf.float32))\n",
    "\n",
    "print(\"정확도:{}\".format(sess.run(accuracy, feed_dict={X:test_x_data,\n",
    "                                                   Y:test_y_data})))\n",
    "       \n"
   ]
  },
  {
   "cell_type": "markdown",
   "metadata": {},
   "source": [
    "# 연습문제 선생님 답"
   ]
  },
  {
   "cell_type": "code",
   "execution_count": 114,
   "metadata": {},
   "outputs": [
    {
     "name": "stdout",
     "output_type": "stream",
     "text": [
      "cost값은:1.3155639171600342\n",
      "cost값은:0.3604184091091156\n",
      "cost값은:0.2834528982639313\n",
      "cost값은:0.24525804817676544\n",
      "cost값은:0.2210853099822998\n",
      "cost값은:0.20393280684947968\n",
      "cost값은:0.1909092664718628\n",
      "cost값은:0.18056564033031464\n",
      "cost값은:0.17208126187324524\n",
      "cost값은:0.16495119035243988\n"
     ]
    }
   ],
   "source": [
    "import tensorflow as tf\n",
    "import numpy as np\n",
    "import pandas as pd\n",
    "import matplotlib.pyplot as plt   # 이상치 확인하기 위한 함수\n",
    "import warnings  # 경고 안보이게\n",
    "from sklearn.preprocessing import MinMaxScaler\n",
    "\n",
    "# 경고메시지 출력 X\n",
    "warnings.filterwarnings(action=\"ignore\")\n",
    "\n",
    "# 데이터 불러오기\n",
    "bmi_df = pd.read_csv(\"./data/bmi.csv\", skiprows=3) # 앞의 3줄은 빼고 가져오겠다\n",
    "\n",
    "# # 결측치 확인\n",
    "# bmi_df.isnull().sum()  # 결측치 없음 \n",
    "# # 이상치 확인\n",
    "# plt.boxplot(bmi_df[\"height\"]) # 이상치 없음 \n",
    "# plt.boxplot(bmi_df[\"weight\"]) # 이상치 없음 \n",
    "\n",
    "\n",
    "##################################################################################################\n",
    "\n",
    "# train data와 test data 생성 \n",
    "# 정규화 작업\n",
    "scaler= MinMaxScaler()\n",
    "train_num = int(bmi_df.shape[0]*0.8) \n",
    "# scaler.data_max_  # 가지고있는 데이터의 최대값\n",
    "# scaler.data_min_  # 최대, 최소값 가지고 scaling\n",
    "x_data = scaler.fit_transform(bmi_df[[\"height\",\"weight\"]])\n",
    "\n",
    "# 데이터 분할해 x data 생성 - 80:20\n",
    "train_x_data = x_data[:train_num]  # nparray에서 자른 값 ->  뒤의 값이 exclusive 해서 16000개\n",
    "test_x_data = x_data[train_num:]\n",
    "\n",
    "# 학습용, 테스트용 y data 생성 -> one hot encoding\n",
    "# one hot encoding으로 전환하는 방법 2가지\n",
    "# 1. pandas.get_dummies()\n",
    "# 2. tensorflow.one_hot()\n",
    "sess = tf.Session()\n",
    "train_y_data = sess.run(tf.one_hot(bmi_df.loc[:train_num-1,\"label\"], 3)) # 원래 1차원 자료가 one-hot encoding 적용하면 2차원 자료가 된다.\n",
    "# sess.run(tf.one_hot(bmi_df.loc[:train_num-1,\"label\"], 3)).shape # data frame이라 loc 사용하면 뒤부분 inclusive하다 -> train_num -1 빼줘야 함! \n",
    "test_y_data = sess.run(tf.one_hot(bmi_df.loc[train_num:,\"label\"], 3))\n",
    "\n",
    "#################################################################################################\n",
    "\n",
    "# placeholder\n",
    "X = tf.placeholder(shape=[None,2],dtype=tf.float32)\n",
    "Y = tf.placeholder(shape=[None,3],dtype=tf.float32)\n",
    "\n",
    "# W, b\n",
    "W = tf.Variable(tf.random_normal([2,3]),name=\"weight\")\n",
    "b = tf.Variable(tf.random_normal([3]),name=\"bias\")  # 1차원으로 3개\n",
    "\n",
    "# H\n",
    "logit = tf.matmul(X,W)+b \n",
    "H = tf.nn.softmax(logit) \n",
    "\n",
    "# cost function\n",
    "cost = tf.reduce_mean(tf.nn.softmax_cross_entropy_with_logits_v2(logits=logit,   # version2로 해야 정확\n",
    "                                                                labels=Y))\n",
    "\n",
    "# train\n",
    "train = tf.train.GradientDescentOptimizer(learning_rate=0.1).minimize(cost)\n",
    "\n",
    "# session\n",
    "sess.run(tf.global_variables_initializer())\n",
    "\n",
    "# 학습\n",
    "for step in range(30000):\n",
    "    _, cost_val = sess.run([train,cost],feed_dict={X : train_x_data,\n",
    "                                                   Y : train_y_data})\n",
    "    if step%3000==0:\n",
    "        print(\"cost값은:{}\".format(cost_val))\n",
    "      \n",
    "    \n"
   ]
  },
  {
   "cell_type": "code",
   "execution_count": 108,
   "metadata": {},
   "outputs": [
    {
     "name": "stdout",
     "output_type": "stream",
     "text": [
      "정확도:0.9797499775886536\n"
     ]
    }
   ],
   "source": [
    "# Accuracy(정확도) 측정\n",
    "predict = tf.argmax(H,axis=1)  \n",
    "correct = tf.equal(predict, tf.argmax(Y,axis=1))\n",
    "accuracy = tf.reduce_mean(tf.cast(correct, dtype=tf.float32))\n",
    "print(\"정확도:{}\".format(sess.run(accuracy, feed_dict={X:test_x_data,\n",
    "                                                   Y:test_y_data})))\n",
    "\n",
    "    "
   ]
  },
  {
   "cell_type": "code",
   "execution_count": 121,
   "metadata": {},
   "outputs": [
    {
     "name": "stdout",
     "output_type": "stream",
     "text": [
      "Fat\n"
     ]
    }
   ],
   "source": [
    "# Prediction\n",
    "# prediction_data = [[187,78]]\n",
    "# 예측하기 위해서 다시 scaling한 값 넣어줘야 한다.\n",
    "\n",
    "# MinMax scaler가 min, max값 가지고 있다.\n",
    "prediction_data = scaler.transform([[165,80]])\n",
    "\n",
    "#sess.run(H,feed_dict={X:prediction_data})\n",
    "result = sess.run(tf.argmax(H,1), feed_dict={X:prediction_data})[0]\n",
    "\n",
    "if result ==0:\n",
    "    print(\"Thin\")\n",
    "elif result ==1:\n",
    "    print(\"Normal\")\n",
    "else:\n",
    "    print(\"Fat\")"
   ]
  },
  {
   "cell_type": "code",
   "execution_count": null,
   "metadata": {},
   "outputs": [],
   "source": []
  },
  {
   "cell_type": "code",
   "execution_count": null,
   "metadata": {},
   "outputs": [],
   "source": []
  },
  {
   "cell_type": "code",
   "execution_count": null,
   "metadata": {},
   "outputs": [],
   "source": []
  }
 ],
 "metadata": {
  "kernelspec": {
   "display_name": "[CPU_ENV]",
   "language": "python",
   "name": "cpu_env"
  },
  "language_info": {
   "codemirror_mode": {
    "name": "ipython",
    "version": 3
   },
   "file_extension": ".py",
   "mimetype": "text/x-python",
   "name": "python",
   "nbconvert_exporter": "python",
   "pygments_lexer": "ipython3",
   "version": "3.6.9"
  }
 },
 "nbformat": 4,
 "nbformat_minor": 2
}
