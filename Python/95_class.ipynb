{
  "nbformat": 4,
  "nbformat_minor": 0,
  "metadata": {
    "colab": {
      "name": "class.ipynb",
      "provenance": [],
      "collapsed_sections": []
    },
    "kernelspec": {
      "name": "python3",
      "display_name": "Python 3"
    }
  },
  "cells": [
    {
      "cell_type": "markdown",
      "metadata": {
        "id": "2kO_nrd720uG",
        "colab_type": "text"
      },
      "source": [
        "### 객체지향 (class) \n",
        "기존 자료구조를 모아서 새로운 자료구조로 프로그래밍 하는 방식   \n",
        "-> 객체지향의 개념은 나중에 하는 것이 좋다!   \n",
        "-> 알고리즘   \n",
        "-> CNN의 ensemble을 class로 구현  \n",
        "-> 알고리즘 \n",
        "\n",
        "### class에 대해 좀 더 알아보자. \n",
        "class는 객체를 만들기 위해 필요한 tool  \n",
        "class 안에 기술된 정보를 바탕으로 일정 메모리 영역을 확보할 수 있고 이 영역을 객체라고 한다. "
      ]
    },
    {
      "cell_type": "code",
      "metadata": {
        "id": "woHB7Bns20SY",
        "colab_type": "code",
        "outputId": "ceda7dcb-9d4b-4b69-8136-ed36cd7a64ca",
        "colab": {
          "base_uri": "https://localhost:8080/",
          "height": 194
        }
      },
      "source": [
        "class Car:\n",
        "    # constructor(생성자) -> 함수\n",
        "    def __init__(self, name):  # init: 객체가 처음 만들어 질 때 무조건 호출됨 -> 하는 일: 객체가 가지는 변수를 특정 값으로 초기화\n",
        "        print(\"객체가 생성됨\")\n",
        "        # class로부터 파생된 객체가 가질 수 있는 데이터는 여기에 명시하자.\n",
        "        self.car_name = name\n",
        "        self.fuel = 100\n",
        "\n",
        "    # 기능을 위한 함수(여러개 나올 수 있다)\n",
        "    def go_front(self): # 현재 객체를 지칭하는 함수\n",
        "        self.my_var = 100  # self 붙어야 객체가 가지는 변수로 인식이 된다. 그냥 my_var 라고 쓰면 나중에 쓸 수 없음 \n",
        "        print(\"자동차가 전진해요!\")\n",
        "        self.fuel = self.fuel - 5 \n",
        "\n",
        "    def backward(self):\n",
        "        print(\"자동차가 후진해요!\")\n",
        "\n",
        "    # 연료량을 알아내는 함수\n",
        "    def get_fuel(self):\n",
        "        return self.fuel\n",
        "\n",
        "car1 = Car(\"소나타\")  # car1이 하나의 객체\n",
        "print(car1.get_fuel())\n",
        "car1.go_front()  # 기능을 사용할 때는 . 사용 -> car1이 가지고 있는 go_front 함수 이용하겠다\n",
        "print(car1.car_name)  # 지금 만든 객체(변수)가 가지고 있는 데이터 불러오고 싶을 때\n",
        "print(car1.get_fuel())\n",
        "car1.go_front()  \n",
        "print(car1.get_fuel())\n",
        "\n",
        "car2 = Car(\"그랜저\")  # car2는 하나의 객체\n",
        "car2.backward()  # \".\" -> dot operator  \n",
        "print(car2.car_name)\n"
      ],
      "execution_count": 0,
      "outputs": [
        {
          "output_type": "stream",
          "text": [
            "객체가 생성됨\n",
            "100\n",
            "자동차가 전진해요!\n",
            "소나타\n",
            "95\n",
            "자동차가 전진해요!\n",
            "90\n",
            "객체가 생성됨\n",
            "자동차가 후진해요!\n",
            "그랜저\n"
          ],
          "name": "stdout"
        }
      ]
    },
    {
      "cell_type": "code",
      "metadata": {
        "id": "6SSKD7rMBhvg",
        "colab_type": "code",
        "colab": {}
      },
      "source": [
        "\n",
        "\n"
      ],
      "execution_count": 0,
      "outputs": []
    },
    {
      "cell_type": "code",
      "metadata": {
        "id": "ga732VVmBiNZ",
        "colab_type": "code",
        "colab": {}
      },
      "source": [
        "\n"
      ],
      "execution_count": 0,
      "outputs": []
    },
    {
      "cell_type": "code",
      "metadata": {
        "id": "RFopDp2r1PyQ",
        "colab_type": "code",
        "colab": {}
      },
      "source": [
        ""
      ],
      "execution_count": 0,
      "outputs": []
    }
  ]
}