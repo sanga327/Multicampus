{
 "cells": [
  {
   "cell_type": "code",
   "execution_count": null,
   "metadata": {},
   "outputs": [],
   "source": [
    "# 한줄주석. R의 주석과 같아요\n",
    "# 여러줄 주석은 \"\"\" \"\"\" 혹은  '''  '''\n",
    "# In[3] : 해당 셀을 몇 번 수행했는지\n",
    "# 파일명: jupyter 옆에 있는 untitle 수정\n",
    "'''\n",
    "python의 장점\n",
    "- 상대적으로 쉬운 언어\n",
    "- 강력한 데이터 분석 library ( 현재 가장 인기가 좋음 )\n",
    "- Open Source\n",
    "- R에 비해서 범용적 사용이 가능\n",
    "- 데이터 분석 결과를 다른 시스템과 연동시킬 때 좋음\n",
    "- 하위 호환성은 없음 ( 2.x버전과 3.x버전이 다름)\n",
    "- PyCharm 혹은 jupyter notebook으로 작업\n",
    "\n",
    "'''\n",
    "# - jupyter notebook hotkey(단축키) : 셀 제어하기 - 셀단위로 실행됨\n",
    "# B: below (아래쪽에 셀 생성)\n",
    "# A: above (위쪽에 셀 생성)\n",
    "# DD : delete (현재 셀 삭제)\n",
    "# O : output창 toggle\n",
    "# L: line 번호 toggle\n",
    "# Ctrl + enter : 현재 셀 실행 -> output영역에 셀 수행결과 출력 \n",
    "# Alt + enter : 현재 셀 실행 + 아래쪽에 셀 삽입\n",
    "# Shift + enter : 현재 셀 실행 + 아래쪽 셀 선택(새롭게 넣는 것이 아니고 있는 것 선택)\n"
   ]
  },
  {
   "cell_type": "code",
   "execution_count": 5,
   "metadata": {},
   "outputs": [
    {
     "name": "stdout",
     "output_type": "stream",
     "text": [
      "['False', 'None', 'True', 'and', 'as', 'assert', 'break', 'class', 'continue', 'def', 'del', 'elif', 'else', 'except', 'finally', 'for', 'from', 'global', 'if', 'import', 'in', 'is', 'lambda', 'nonlocal', 'not', 'or', 'pass', 'raise', 'return', 'try', 'while', 'with', 'yield']\n"
     ]
    }
   ],
   "source": [
    "# python의 keyword \n",
    "\n",
    "# keyword module을 로딩해야 함 \n",
    "import keyword\n",
    "\n",
    "# output영역에 출력할 때 사용하는 함수 : print()\n",
    "print(keyword.kwlist)  # keyword list라는 속성 출력? \n",
    "\n",
    "\n",
    "\n",
    "\n",
    "\n"
   ]
  },
  {
   "cell_type": "code",
   "execution_count": 12,
   "metadata": {},
   "outputs": [
    {
     "name": "stdout",
     "output_type": "stream",
     "text": [
      "100\n",
      "200\n",
      "var2의 값은: 200\n"
     ]
    }
   ],
   "source": [
    "## 변수를 생성하고 삭제해 보자!\n",
    "var1 = 100; # python에서는 <- 사용할 수 없음 / 뒤쪽에 다른 코드 없으면 세미콜론은 생략 가능. \n",
    "var2 = 200\n",
    "var1\n",
    "var2  # 이렇게 하면 맨 마지막에 있는 변수명만 output으로 출력됨. -> 출력할 때는 print 사용하는 것이 좋음. \n",
    "# output에 출력할 때는 print() 이용하기! \n",
    "print(var1)\n",
    "print(var2) \n",
    "print(\"var2의 값은:\", var2)  # R의 cat과 사용법 비슷함.\n",
    "# 인자를 여러개 줄 수 있음. 여러개의 인자를 하나씩 출력함\n",
    "del var2;  # var2를 메모리에서 지워라(변수 삭제)\n",
    "# print(\"var2의 값은:\", var2) # 에러\n",
    "\n"
   ]
  },
  {
   "cell_type": "code",
   "execution_count": null,
   "metadata": {},
   "outputs": [],
   "source": []
  },
  {
   "cell_type": "code",
   "execution_count": null,
   "metadata": {},
   "outputs": [],
   "source": []
  }
 ],
 "metadata": {
  "kernelspec": {
   "display_name": "[CPU_ENV]",
   "language": "python",
   "name": "cpu_env"
  },
  "language_info": {
   "codemirror_mode": {
    "name": "ipython",
    "version": 3
   },
   "file_extension": ".py",
   "mimetype": "text/x-python",
   "name": "python",
   "nbconvert_exporter": "python",
   "pygments_lexer": "ipython3",
   "version": "3.6.9"
  }
 },
 "nbformat": 4,
 "nbformat_minor": 2
}
