{
 "cells": [
  {
   "cell_type": "code",
   "execution_count": 8,
   "metadata": {},
   "outputs": [
    {
     "name": "stdout",
     "output_type": "stream",
     "text": [
      "홍길동,18,7,19\n",
      "최길동,58,70,15\n",
      "아이유,92,94,99\n",
      "김연아,17,20,22\n",
      "이선희,76,25,14\n",
      "강감찬,90,19,71\n",
      "신사임당,31,23,16"
     ]
    }
   ],
   "source": [
    "# python의 기본 파일처리\n",
    "# 먼저 file handel을 획득해야 함! \n",
    "# 사용할 데이터 파일을 오픈 !\n",
    "# 읽기 용도, 쓰기 용도 \n",
    "\n",
    "# 파일은 C -> python DA 폴더에 파일 넣어두기\n",
    "file1 = open('student_score.txt','r')  # 'r': 읽을 용도로 파일 저장할거다\n",
    "file2 = open('backup.txt','w')   # 'w': 파일을 쓸 용도  # file1을 한 줄 읽어서 갖다쓰고 갖다쓰고 해서 복사하는 파일\n",
    "\n",
    "# 학생 성적 파일에서 한 줄씩 읽어와서 output console에 출력하고 해당 내용을 backup 파일에 저장 \n",
    "\n",
    "while True:  # 무한히 반복해라 -> 파일로부터 읽어들일 것이 없으면 탈출! ( 언제가 끝인지 모르므로 )\n",
    "    line = file1.readline()  # readline: 한줄 읽어오는 함수\n",
    "    print(line, end=\"\")      # print는 원래 한 줄 띄는데 end=\"\" 하면 안띄어줌     \n",
    "                             # end 조건 안주면 두줄 띄어진 이유?  개행문자: 행을 여는 글자가 뒤에 있음 (\\n)\n",
    "                             # 그리고 print 자체가 무조건 한 줄 띄고 다음줄에 출력하므로 \n",
    "    if not line:      # 만약에 라인이 끝에 도달하면 (if True)   # \"\": 빈문자열은 false\n",
    "        break         # 가장 가까운 반복문을 탈출! \n",
    "    file2.write(line)  # 파일이 생성됨\n",
    "\n",
    "# 파일 작성 후 닫지 않으면 변경내용이 적용되지 않음 \n",
    "file1.close()\n",
    "file2.close()\n",
    "\n"
   ]
  },
  {
   "cell_type": "code",
   "execution_count": null,
   "metadata": {},
   "outputs": [],
   "source": [
    "\n",
    "\n",
    "\n",
    "\n",
    "\n",
    "\n",
    "\n",
    "\n",
    "\n",
    "\n",
    "\n",
    "\n",
    "\n",
    "\n",
    "\n",
    "\n",
    "\n",
    "\n",
    "\n",
    "\n",
    "\n",
    "\n",
    "\n",
    "\n",
    "\n",
    "\n",
    "\n",
    "\n",
    "\n"
   ]
  },
  {
   "cell_type": "code",
   "execution_count": null,
   "metadata": {},
   "outputs": [],
   "source": []
  },
  {
   "cell_type": "code",
   "execution_count": null,
   "metadata": {},
   "outputs": [],
   "source": []
  },
  {
   "cell_type": "code",
   "execution_count": null,
   "metadata": {},
   "outputs": [],
   "source": []
  },
  {
   "cell_type": "code",
   "execution_count": null,
   "metadata": {},
   "outputs": [],
   "source": []
  },
  {
   "cell_type": "code",
   "execution_count": null,
   "metadata": {},
   "outputs": [],
   "source": []
  },
  {
   "cell_type": "code",
   "execution_count": null,
   "metadata": {},
   "outputs": [],
   "source": []
  }
 ],
 "metadata": {
  "kernelspec": {
   "display_name": "[CPU_ENV]",
   "language": "python",
   "name": "cpu_env"
  },
  "language_info": {
   "codemirror_mode": {
    "name": "ipython",
    "version": 3
   },
   "file_extension": ".py",
   "mimetype": "text/x-python",
   "name": "python",
   "nbconvert_exporter": "python",
   "pygments_lexer": "ipython3",
   "version": "3.6.9"
  }
 },
 "nbformat": 4,
 "nbformat_minor": 2
}
